{
 "cells": [
  {
   "cell_type": "markdown",
   "metadata": {},
   "source": [
    "[![Open in Colab](https://colab.research.google.com/assets/colab-badge.svg)](https://colab.research.google.com/github/nkeriven/ensta-mt12/blob/main/notebooks/01a_introduction/N2_Polynomial_Classification_Model_Complexity.ipynb)"
   ]
  },
  {
   "cell_type": "code",
   "execution_count": null,
   "metadata": {},
   "outputs": [],
   "source": [
    "# Import modules\n",
    "%matplotlib inline\n",
    "import matplotlib\n",
    "import numpy as np\n",
    "import matplotlib.pyplot as plt\n",
    "# Select random seed\n",
    "random_state = 3"
   ]
  },
  {
   "cell_type": "markdown",
   "metadata": {},
   "source": [
    "# Model Complexity"
   ]
  },
  {
   "cell_type": "markdown",
   "metadata": {},
   "source": [
    "We make use of scikit pipeline mechanism to estimate linear classification of different order"
   ]
  },
  {
   "cell_type": "code",
   "execution_count": null,
   "metadata": {},
   "outputs": [],
   "source": [
    "from sklearn.pipeline import make_pipeline, Pipeline\n",
    "from sklearn.preprocessing import PolynomialFeatures, StandardScaler"
   ]
  },
  {
   "cell_type": "markdown",
   "metadata": {},
   "source": [
    "The PolynomialFeatures functions generates higher order polynoms from the initial samples. For instances, from (x_1, x_2) we could generate second order monomials (1, x_1, x_2, x_1x_2, x_1^2,x_2^2). It can be useful when the decision boundary is not linear."
   ]
  },
  {
   "cell_type": "markdown",
   "metadata": {},
   "source": [
    "## Generate data using sklearn toy functions"
   ]
  },
  {
   "cell_type": "code",
   "execution_count": null,
   "metadata": {},
   "outputs": [],
   "source": [
    "from sklearn.datasets import make_moons\n",
    "X,y = make_moons(n_samples=1000, random_state=random_state, noise=0.25)\n",
    "\n",
    "from sklearn.model_selection import train_test_split\n",
    "# We split the initial set in two sets: one, namely the training set, use for training the model, \n",
    "# and one, namely the test set, use to compute the validation error\n",
    "# -> test_size x n_samples for the test set and n_samples x (1- test_size) for the training set\n",
    "# where test_size is given as a parameter\n",
    "X_train, X_test, y_train, y_test = train_test_split(X, y, test_size=0.9, random_state= random_state )\n",
    "y_train[y_train==0]=-1\n",
    "y_test[y_test==0]=-1\n",
    "\n",
    "# Display the training set\n",
    "plt.scatter(X_train[:,0], X_train[:,1],c=y_train)\n",
    "plt.grid()"
   ]
  },
  {
   "cell_type": "markdown",
   "metadata": {},
   "source": [
    "## Train the Least Squares Classifier with polynomial features"
   ]
  },
  {
   "cell_type": "code",
   "execution_count": null,
   "metadata": {},
   "outputs": [],
   "source": [
    "from sklearn import linear_model\n",
    "\n",
    "# Train the Least Squares (Ridge) Classifier with polynomial features\n",
    "degree = 2 # Degree of the polynomial 1 ->20\n",
    "model = make_pipeline(PolynomialFeatures(degree), StandardScaler(), linear_model.RidgeClassifier(alpha=1e-6))\n",
    "model.fit(X_train, y_train) # apply fit to the whole pipeline: compute polynomial degree, scale, train the classifier\n",
    "\n",
    "# Plot the decision functions\n",
    "XX, YY = np.meshgrid(np.linspace(X_train[:,0].min(), X_train[:,0].max(),200),\n",
    "                     np.linspace(X_train[:,1].min(), X_train[:,1].max(),200))\n",
    "XY = np.vstack([ XX.flatten(), YY.flatten() ]).T\n",
    "yp= model.predict(XY) # important: the scaler doesn't change its mean/std value for prediction !\n",
    "plt.contour(XX,YY,yp.reshape(XX.shape),[0])\n",
    "plt.grid()\n",
    "plt.scatter(X_train[:,0], X_train[:,1], c=y_train)\n"
   ]
  },
  {
   "cell_type": "markdown",
   "metadata": {},
   "source": [
    "### Exercise\n",
    "Change the degree of the polynomial feature expansion for the previous example, e.g.  by gradually varying it  from 1,4,7  to 19, and visualize the shape of the decision boundary\n",
    " - do you think that a degree of 1, which gives a linear boundary (a straight line), is a satisfactory choice in this example?\n",
    " - conversely, what happens when the degree is 19 ?\n",
    " - By visual inspection, what value of the degree seems to be a good choice?"
   ]
  },
  {
   "cell_type": "markdown",
   "metadata": {},
   "source": [
    "## Test error Vs Train Error"
   ]
  },
  {
   "cell_type": "markdown",
   "metadata": {},
   "source": [
    "We can now measure, in a **quantitative way**, the influence of the polynom order on the classifification accuracy for **fresh** data, i.e. unseen during the training step. This gives us an estimate of the **test error**"
   ]
  },
  {
   "cell_type": "code",
   "execution_count": null,
   "metadata": {},
   "outputs": [],
   "source": [
    "#from sklearn.model_selection import validation_curve\n",
    "lin_model = linear_model.RidgeClassifier(alpha=1e-6)\n",
    "\n",
    "degrees= np.arange(1,20)\n",
    "train_error_rate= np.zeros(degrees.shape)\n",
    "test_error_rate= np.zeros(degrees.shape)\n",
    "for i,deg in enumerate(degrees):\n",
    "    model = make_pipeline(PolynomialFeatures(deg), StandardScaler(), lin_model )\n",
    "    model.fit(X_train,y_train )\n",
    "    y_pred= model.predict( X_train )\n",
    "    train_error_rate[i] = np.mean( y_train != y_pred)\n",
    "    y_pred= model.predict( X_test )\n",
    "    test_error_rate[i] = np.mean( y_test != y_pred)\n",
    "    \n",
    "\n",
    "#train_scores, valid_scores = validation_curve(pipe, X, y, \"poly__degree\", range(1,20), cv=10)\n",
    "plt.plot(range(1, 20), train_error_rate, label=\"Training error\")\n",
    "plt.plot(range(1, 20), test_error_rate, label=\"Test error\")\n",
    "plt.grid()\n",
    "plt.xticks(range(1, 20))\n",
    "plt.legend()\n",
    "plt.xlabel(\"Polynomial degrees $d$\")\n",
    "plt.ylabel(\"Misclassification rate\")\n",
    "#plt.savefig(\"train_vs_test_error.pdf\")"
   ]
  },
  {
   "cell_type": "markdown",
   "metadata": {},
   "source": [
    "### Exercise\n",
    "\n",
    " - In view of the results obtained, which values of the degree (or range of values) seem optimal?\n",
    "\n",
    " - Verify that these values give boudaries that seem coherent to you. Several simulations can be carried out by regenerating the data (changing the pseudo random algo seed, see the variable `random_state` in the first cell) in order to check the stability of the results.\n"
   ]
  },
  {
   "cell_type": "code",
   "execution_count": null,
   "metadata": {},
   "outputs": [],
   "source": []
  }
 ],
 "metadata": {
  "kernelspec": {
   "display_name": "Python 3 (ipykernel)",
   "language": "python",
   "name": "python3"
  },
  "language_info": {
   "codemirror_mode": {
    "name": "ipython",
    "version": 3
   },
   "file_extension": ".py",
   "mimetype": "text/x-python",
   "name": "python",
   "nbconvert_exporter": "python",
   "pygments_lexer": "ipython3",
   "version": "3.8.13"
  },
  "widgets": {
   "application/vnd.jupyter.widget-state+json": {
    "state": {},
    "version_major": 2,
    "version_minor": 0
   }
  }
 },
 "nbformat": 4,
 "nbformat_minor": 4
}
