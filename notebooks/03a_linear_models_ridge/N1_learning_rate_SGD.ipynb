{
 "cells": [
  {
   "cell_type": "markdown",
   "metadata": {},
   "source": [
    "# Learning Rate and Convergence of stochastic gradient descent algorihtm (SGD) for a simple linear model\n",
    "\n",
    "This exercise is based on the tensorflow [playground](https://playground.tensorflow.org) program (developed by google to teach machine learning principles).\n",
    "You'll experiment with learning rate by performing two tasks."
   ]
  },
  {
   "cell_type": "markdown",
   "metadata": {},
   "source": [
    "The interface for this exercise provides three buttons:\n",
    "\n",
    "|    Button                 | What it Does   |\n",
    "|:--------------------------|:---------------|\n",
    "|    Reset (loopy arrow icon)    | Resets `Iterations` to 0. Resets any weights that model had already learned.|\n",
    "|    NextStep (triangle+bar icon)| Advance one epoch in the SGD procedure. With each epoch, the model changes—sometimes subtly and sometimes dramatically.| \n",
    "|   `REGENERATE`            | Generates a new data set. Does not reset Iterations. |\n"
   ]
  },
  {
   "cell_type": "markdown",
   "metadata": {},
   "source": [
    "### Task 1 \n",
    "\n",
    "Run this [tensorflow playground program](https://playground.tensorflow.org/#activation=linear&batchSize=1&dataset=gauss&regDataset=reg-plane&learningRate=3&regularizationRate=0&noise=50&networkShape=&seed=0.68715&showTestData=false&discretize=false&percTrainData=50&x=true&y=true&xTimesY=true&xSquared=true&ySquared=true&cosX=false&sinX=false&cosY=false&sinY=false&collectStats=false&problem=classification&initZero=false&hideText=false&playButton_hide=false&regularizationRate_hide=false&percTrainData_hide=false&numHiddenLayers_hide=false&noise_hide=false&problem_hide=false&regularization_hide=false&dataset_hide=false&activation_hide=false) (consider doing this Task in a separate tab)  and notice the **Learning rate** menu at the top-right of Playground. The given Learning rate equal to $3$ is very high. \n",
    "\n",
    "**Exercise:** \n",
    "\n",
    "Observe how that high Learning rate affects your model by clicking the `NextStep` button $10$ or $20$ times. After each early iteration/epoch, notice how the model visualization changes dramatically. You might even see some instability after the model appears to have converged. Also notice the lines running from $X_1$ and \n",
    "$X_2$ to the model visualization. The weights of these lines indicate the weights of those features in the model. That is, a thick line indicates a small weight.\n",
    "\n",
    "Add the second-order polynomial features and do the same."
   ]
  },
  {
   "cell_type": "markdown",
   "metadata": {},
   "source": [
    "### Task 2 \n",
    "\n",
    "Run the same [tensorflow playground program](https://playground.tensorflow.org/#activation=linear&batchSize=1&dataset=gauss&regDataset=reg-plane&learningRate=3&regularizationRate=0&noise=50&networkShape=&seed=0.17158&showTestData=false&discretize=false&percTrainData=50&x=true&y=true&xTimesY=false&xSquared=false&ySquared=false&cosX=false&sinX=false&cosY=false&sinY=false&collectStats=false&problem=classification&initZero=false&hideText=false&playButton_hide=true&regularizationRate_hide=true&percTrainData_hide=true&numHiddenLayers_hide=true&noise_hide=true&problem_hide=true&regularization_hide=true&dataset_hide=true&activation_hide=true) (in a separate tab) \n",
    "and do the following:\n",
    " - Press the Reset button.\n",
    " - Lower the Learning rate.\n",
    " - Press the `NextStep` button a bunch of times.\n",
    "\n",
    "**Questions:** \n",
    " - How did the lower learning rate impact convergence? Examine both the number of steps needed for the model to converge, and also how smoothly and steadily the model converges. \n",
    " - Experiment with even lower values of learning rate. Can you find a learning rate too slow to be useful?"
   ]
  },
  {
   "cell_type": "markdown",
   "metadata": {},
   "source": [
    "*Note*: \n",
    "Due to the non-deterministic nature of Playground exercises, your answers are specific to your data sets. But in many cases, we will retrieve the same behavior and similar values for the _interesting_ learning rates."
   ]
  },
  {
   "cell_type": "code",
   "execution_count": null,
   "metadata": {},
   "outputs": [],
   "source": []
  }
 ],
 "metadata": {
  "kernelspec": {
   "display_name": "Python 3 (ipykernel)",
   "language": "python",
   "name": "python3"
  },
  "language_info": {
   "codemirror_mode": {
    "name": "ipython",
    "version": 3
   },
   "file_extension": ".py",
   "mimetype": "text/x-python",
   "name": "python",
   "nbconvert_exporter": "python",
   "pygments_lexer": "ipython3",
   "version": "3.11.5"
  },
  "widgets": {
   "application/vnd.jupyter.widget-state+json": {
    "state": {},
    "version_major": 2,
    "version_minor": 0
   }
  }
 },
 "nbformat": 4,
 "nbformat_minor": 4
}
