{
 "cells": [
  {
   "cell_type": "markdown",
   "metadata": {},
   "source": [
    "[![Open in Colab](https://colab.research.google.com/assets/colab-badge.svg)](https://colab.research.google.com/github/nkeriven/ensta-mt12/blob/main/notebooks/03_discriminant_analysis/N1_LDA_code.ipynb)"
   ]
  },
  {
   "cell_type": "markdown",
   "metadata": {},
   "source": [
    "# LDA binary classification for synthetic data\n",
    "\n",
    "We consider a binary classification problem \n",
    "- $y \\in \\{1,2 \\}$, \n",
    "- the input variables being two-dimensional $x \\in \\mathbb {R}^2$ $(d = 2)$.\n",
    "\n",
    "We have a training set of size $n =100$, stored in the Matlab format in the file`synth_train.mat` in the form of a $n \\times p $ matrix `Xtrain` and a $n \\times 1$ vector `Ytrain`, and $200$ test data `synth_test.mat`."
   ]
  },
  {
   "cell_type": "code",
   "execution_count": null,
   "metadata": {},
   "outputs": [],
   "source": [
    "# Import useful modules\n",
    "%matplotlib inline\n",
    "import matplotlib\n",
    "import matplotlib.pyplot as plt\n",
    "import numpy as np\n",
    "import scipy as sp\n",
    "import scipy.io as spio"
   ]
  },
  {
   "cell_type": "markdown",
   "metadata": {},
   "source": [
    "## Load and display 'synth_train' dataset\n",
    "\n",
    "You can download the file and put it in the same folder, or use the command below to do so"
   ]
  },
  {
   "cell_type": "code",
   "execution_count": null,
   "metadata": {},
   "outputs": [],
   "source": [
    "!wget https://raw.githubusercontent.com/nkeriven/ensta-mt12/main/notebooks/data/synth_train.mat -O synth_train.mat\n",
    "!wget https://raw.githubusercontent.com/nkeriven/ensta-mt12/main/notebooks/data/synth_test.mat -O synth_test.mat"
   ]
  },
  {
   "cell_type": "code",
   "execution_count": null,
   "metadata": {},
   "outputs": [],
   "source": [
    "# Warning: put the data files in the notebook directory\n",
    "data = spio.loadmat(\"synth_train.mat\")\n",
    "Xtrain = data[\"Xtrain\"]\n",
    "Ytrain = data[\"Ytrain\"]\n",
    "\n",
    "# Warning: put the data files in the notebook directory\n",
    "data = spio.loadmat(\"synth_test.mat\")\n",
    "Xtest = data[\"Xtest\"]\n",
    "Ytest = data[\"Ytest\"]\n",
    "\n",
    "(n, p) = Xtrain.shape\n",
    "print(\"training set size n={}, feature size p={}\".format(n, p))\n",
    "\n",
    "# Cast target Y as 1D vector\n",
    "Ytest = Ytest.ravel()\n",
    "Ytrain = Ytrain.ravel()\n",
    "\n",
    "# Display the training set\n",
    "#color = [\"b\" if x==1 else \"r\" for x in Ytrain]\n",
    "plt.scatter(Xtrain[:, 0], Xtrain[:, 1], c=Ytrain)"
   ]
  },
  {
   "cell_type": "markdown",
   "metadata": {},
   "source": [
    "## Compute LDA parameter estimators\n",
    "\n",
    "### Exercise: \n",
    "Complete the code below (see `FIXME` tags) to compute the estimators ot the mean vectors\n",
    "\n",
    "Hint: \n",
    "```python\n",
    "Xtrain[Ytrain == 1]\n",
    "```\n",
    "return a  $(n_1 \\times 2)$ ndarray with *all the samples from class 1 only*, "
   ]
  },
  {
   "cell_type": "code",
   "execution_count": null,
   "metadata": {},
   "outputs": [],
   "source": [
    "# Get class sizes\n",
    "n1 = np.sum(Ytrain == 1)\n",
    "n2 = np.sum(Ytrain == 2)\n",
    "print((2*\"number of class {} samples (training set) n{}={}\\n\").format(1, 1, n1, 2, 2, n2))\n",
    "\n",
    "# estimate the class weight\n",
    "pik = [n1/n, n2/n]\n",
    "print((2 * \"class weight pi{}={}\\n\").format(1, pik[0], 2, pik[1]))\n",
    "\n",
    "# estimate the class mean vectors\n",
    "mu1 = Xtrain[Ytrain==1].mean(axis=0)#np.zeros((2,))  # FIXME: put the right expression here as a 2D vector\n",
    "mu2 = Xtrain[Ytrain==2].mean(axis=0) #np.zeros((2,))  # FIXME: put the right expression here as a 2D vector\n",
    "\n",
    "print((2 * \"class mean mu{}={}\\n\").format(1, mu1, 2, mu2))\n",
    "\n",
    "# Compute pooled covariance (see LDA assumption) estimator\n",
    "Xcentered = [Xtrain[Ytrain == 1]-mu1, Xtrain[Ytrain == 2]-mu2]\n",
    "\n",
    "# @ for matrix multiplication\n",
    "SigmaHat = (1./(n-2)) * (Xcentered[0].T @\n",
    "                         Xcentered[0] + Xcentered[1].T @ Xcentered[1])\n",
    "\n",
    "print(\"Pooled covariance estimator SigmaHat\")\n",
    "S_str = np.array2string(SigmaHat, precision=3, separator=', ')\n",
    "print(' ' + S_str[1:-1])"
   ]
  },
  {
   "cell_type": "markdown",
   "metadata": {},
   "source": [
    "## Compute and Display LDA decision boundary\n",
    "**Exercise:** Complete the code below (see `FIXME` tags) to compute the decision boundary"
   ]
  },
  {
   "cell_type": "code",
   "execution_count": null,
   "metadata": {},
   "outputs": [],
   "source": [
    "# parameter of the LDA decision boudary: here a simple line\n",
    "\n",
    "# Constant term (see course)\n",
    "C = np.log(pik[0]/pik[1]) - 0.5 * mu1.T @ np.linalg.inv(SigmaHat) @ mu1 + \\\n",
    "    0.5*mu2.T @ np.linalg.inv(SigmaHat) @ mu2\n",
    "print(\"Constant term C={}\".format(C))\n",
    "\n",
    "# Linear term (see course)\n",
    "L = np.linalg.inv(SigmaHat) @ (mu1-mu2)#np.zeros((2,))  # FIXME: put the right expression here as a 2D vector\n",
    "#L = np.linalg.inv(SigmaHat) @ (mu1-mu2)\n",
    "print(\"Linear term L={}\".format(L))"
   ]
  },
  {
   "cell_type": "code",
   "execution_count": null,
   "metadata": {},
   "outputs": [],
   "source": [
    "# Plot the decision functions\n",
    "XX, YY = np.meshgrid(np.linspace(Xtrain[:, 0].min(), Xtrain[:, 0].max(), 200),\n",
    "                     np.linspace(Xtrain[:, 1].min(), Xtrain[:, 1].max(), 200))\n",
    "XY = np.vstack([XX.flatten(), YY.flatten()])\n",
    "yp = np.sign(C + L @ XY)  # yp=-1 for class 1, +1 for class 2\n",
    "plt.contour(XX, YY, yp.reshape(XX.shape), [0])\n",
    "plt.scatter(Xtrain[:, 0], Xtrain[:, 1], c=Ytrain)\n",
    "plt.grid(\"on\")\n",
    "plt.xlabel('$x_1$')\n",
    "plt.ylabel('$x_2$')"
   ]
  },
  {
   "cell_type": "markdown",
   "metadata": {},
   "source": [
    "## Compare with built-in methods from sklearn "
   ]
  },
  {
   "cell_type": "code",
   "execution_count": null,
   "metadata": {},
   "outputs": [],
   "source": [
    "from sklearn.discriminant_analysis import LinearDiscriminantAnalysis as LDA\n",
    "\n",
    "model = LDA()\n",
    "model.fit(Xtrain, Ytrain)\n",
    "\n",
    "# constant term C\n",
    "print(\"Constant term C={}\".format(model.intercept_))\n",
    "# linear term L\n",
    "print(\"Linear term L={}\".format(model.coef_))"
   ]
  },
  {
   "cell_type": "markdown",
   "metadata": {},
   "source": [
    "## check LDA decision boundary/classification rule an compute performances"
   ]
  },
  {
   "cell_type": "code",
   "execution_count": null,
   "metadata": {},
   "outputs": [],
   "source": [
    "from sklearn.discriminant_analysis import LinearDiscriminantAnalysis as LDA\n",
    "from sklearn.metrics import accuracy_score as OA\n",
    "\n",
    "model = LDA()\n",
    "model.fit(Xtrain, Ytrain)\n",
    "\n",
    "# performance on training set\n",
    "y_pred = model.predict(Xtrain)\n",
    "oa = OA(Ytrain, y_pred)  # overall accuracy\n",
    "print(\"LDA training misclassification error rate = {}\".format(1-oa))\n",
    "\n",
    "# performance on test set: what matters!\n",
    "y_pred = model.predict(Xtest)\n",
    "oa = OA(Ytest, y_pred)  # overall accuracy\n",
    "print(\"LDA test misclassification error rate = {}\".format(1-oa))\n",
    "\n",
    "# Display the decision functions\n",
    "XX, YY = np.meshgrid(np.linspace(Xtrain[:, 0].min(), Xtrain[:, 0].max(), 200),\n",
    "                     np.linspace(Xtrain[:, 1].min(), Xtrain[:, 1].max(), 200))\n",
    "XY = np.vstack([XX.flatten(), YY.flatten()]).T\n",
    "yp = model.predict(XY)  # yp=1 for class 1, 2 class 2\n",
    "plt.contour(XX, YY, yp.reshape(XX.shape), [1.5])\n",
    "plt.scatter(Xtrain[:, 0], Xtrain[:, 1], c=Ytrain)\n",
    "plt.grid(\"on\")\n",
    "plt.xlabel('$x_1$')\n",
    "plt.ylabel('$x_2$')"
   ]
  },
  {
   "cell_type": "markdown",
   "metadata": {},
   "source": [
    "## Same for QDA"
   ]
  },
  {
   "cell_type": "code",
   "execution_count": null,
   "metadata": {},
   "outputs": [],
   "source": [
    "from sklearn.discriminant_analysis import QuadraticDiscriminantAnalysis as QDA\n",
    "from sklearn.metrics import accuracy_score as OA\n",
    "\n",
    "model = QDA()\n",
    "model.fit(Xtrain, Ytrain)\n",
    "\n",
    "# performance on training set\n",
    "y_pred = model.predict(Xtrain)\n",
    "oa = OA(Ytrain, y_pred)  # overall accuracy\n",
    "print(\"QDA training misclassification error rate = {}\".format(1-oa))\n",
    "\n",
    "# performance on test set: what matters!\n",
    "y_pred = model.predict(Xtest)\n",
    "oa = OA(Ytest, y_pred)  # overall accuracy\n",
    "print(\"QDA test misclassification error rate = {}\".format(1-oa))\n",
    "\n",
    "# Display the decision functions\n",
    "XX, YY = np.meshgrid(np.linspace(Xtrain[:, 0].min(), Xtrain[:, 0].max(), 200),\n",
    "                     np.linspace(Xtrain[:, 1].min(), Xtrain[:, 1].max(), 200))\n",
    "XY = np.vstack([XX.flatten(), YY.flatten()]).T\n",
    "yp = model.predict(XY)  # yp=1 for class 1, 2 class 2\n",
    "plt.contour(XX, YY, yp.reshape(XX.shape), [1.5])\n",
    "plt.scatter(Xtrain[:, 0], Xtrain[:, 1], c=Ytrain)\n",
    "plt.grid(\"on\")\n",
    "plt.xlabel('$x_1$')\n",
    "plt.ylabel('$x_2$')"
   ]
  },
  {
   "cell_type": "markdown",
   "metadata": {},
   "source": [
    "### Exercise:\n",
    "- Why the QDA boundary is no longer a straight line?\n",
    "- Which model (LDA or QDA) should be preferred on this small dataset?"
   ]
  },
  {
   "cell_type": "code",
   "execution_count": null,
   "metadata": {},
   "outputs": [],
   "source": []
  }
 ],
 "metadata": {
  "kernelspec": {
   "display_name": "Python 3 (ipykernel)",
   "language": "python",
   "name": "python3"
  },
  "language_info": {
   "codemirror_mode": {
    "name": "ipython",
    "version": 3
   },
   "file_extension": ".py",
   "mimetype": "text/x-python",
   "name": "python",
   "nbconvert_exporter": "python",
   "pygments_lexer": "ipython3",
   "version": "3.9.13"
  },
  "widgets": {
   "application/vnd.jupyter.widget-state+json": {
    "state": {},
    "version_major": 2,
    "version_minor": 0
   }
  }
 },
 "nbformat": 4,
 "nbformat_minor": 4
}
