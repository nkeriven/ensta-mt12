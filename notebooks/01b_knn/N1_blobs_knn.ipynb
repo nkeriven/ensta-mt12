{
 "cells": [
  {
   "cell_type": "markdown",
   "metadata": {},
   "source": [
    "[![Open in Colab](https://colab.research.google.com/assets/colab-badge.svg)](https://colab.research.google.com/github/nkeriven/ensta-mt12/blob/main/notebooks/01b_knn/N1_blobs_knn.ipynb)"
   ]
  },
  {
   "cell_type": "code",
   "execution_count": null,
   "metadata": {},
   "outputs": [],
   "source": [
    "# Import modules\n",
    "%matplotlib inline\n",
    "import matplotlib\n",
    "import numpy as np\n",
    "import matplotlib.pyplot as plt\n",
    "import warnings\n",
    "warnings.simplefilter(action='ignore', category=FutureWarning) # some "
   ]
  },
  {
   "cell_type": "code",
   "execution_count": null,
   "metadata": {},
   "outputs": [],
   "source": [
    "# Select random seed\n",
    "random_state = 1"
   ]
  },
  {
   "cell_type": "markdown",
   "metadata": {},
   "source": [
    "We use scikit-learn to generate a toy 2D data set (two features $x_1$ and $x_2$)  for binary classification  (two classes) \n",
    " - each sample $(x_1,x_2)$ in the dataset is plotted as a 2D point where the two features $x_1$ and $x_2$ are displayed along the abscissa and ordinate axes respectively\n",
    " - the corresponding class label $y$ is displayed as a color mark (e.g., yellow or purple)"
   ]
  },
  {
   "cell_type": "code",
   "execution_count": null,
   "metadata": {},
   "outputs": [],
   "source": [
    "from sklearn.datasets import make_classification\n",
    "#X are the features (aka inputs, ...), y the labels (aka responses, targets, output...)\n",
    "X,y = make_classification(n_features=2, n_redundant=0, n_informative=2, n_samples=1000,\n",
    "                          random_state=random_state, n_clusters_per_class=2,\n",
    "                         class_sep=.7)\n",
    "\n",
    "from sklearn.model_selection import train_test_split\n",
    "# We split the initial set in two sets: one, namely the training set, use for training the model, \n",
    "# and one, namely the test set, use to compute the validation error\n",
    "# -> test_size x n_samples for the test set and n_samples x (1- test_size) for the training set\n",
    "# where test_size is given as a parameter\n",
    "X_train, X_test, y_train, y_test = train_test_split(X, y, test_size=0.9, random_state= random_state )\n",
    "y_train[y_train==0]=-1\n",
    "y_test[y_test==0]=-1\n",
    "\n",
    "# Display the training set\n",
    "plt.scatter(X_train[:,0], X_train[:,1],c=y_train)\n",
    "plt.grid(True)\n",
    "plt.xlabel('$x_1$')\n",
    "plt.ylabel('$x_2$')\n",
    "#plt.savefig(\"2d_binary_classif.pdf\")"
   ]
  },
  {
   "cell_type": "markdown",
   "metadata": {},
   "source": [
    "Then a _k nearest neighbors_ algorithm is used to learn the classification function/rule."
   ]
  },
  {
   "cell_type": "code",
   "execution_count": null,
   "metadata": {},
   "outputs": [],
   "source": [
    "from sklearn.neighbors import KNeighborsClassifier\n",
    "knn = KNeighborsClassifier(n_neighbors=5) # Creation of the classifier\n",
    "knn.fit(X_train, y_train) # Model fitting"
   ]
  },
  {
   "cell_type": "code",
   "execution_count": null,
   "metadata": {
    "scrolled": true
   },
   "outputs": [],
   "source": [
    "# Plot the decision functions\n",
    "XX, YY = np.meshgrid(np.linspace(X[:,0].min(), X[:,0].max(),200),\n",
    "                     np.linspace(X[:,1].min(), X[:,1].max(),200))\n",
    "XY = np.vstack([XX.flatten(), YY.flatten()]).T\n",
    "yp = knn.predict(XY)\n",
    "plt.contour(XX,YY,yp.reshape(XX.shape),[0])\n",
    "plt.scatter(XY[:,0],XY[:,1], c=yp/2+1/4, s=.1)\n",
    "plt.scatter(X_train[:,0], X_train[:,1], c=y_train)\n",
    "plt.grid(\"on\")\n",
    "plt.xlabel('$x_1$')\n",
    "plt.ylabel('$x_2$')"
   ]
  },
  {
   "cell_type": "code",
   "execution_count": null,
   "metadata": {},
   "outputs": [],
   "source": [
    "XY.shape"
   ]
  },
  {
   "cell_type": "markdown",
   "metadata": {},
   "source": [
    "## Model complexity\n",
    "\n",
    "For the KNN, the number of neighbors considered for the decision is the main hyperparemeter to set-up for small to medium size problem. Default value for scikit-learn is set to 5 (do knn? for help). In the following we are going to plot the overall accuracy function of the hyperparameter."
   ]
  },
  {
   "cell_type": "code",
   "execution_count": null,
   "metadata": {},
   "outputs": [],
   "source": [
    "help(knn)"
   ]
  },
  {
   "cell_type": "code",
   "execution_count": null,
   "metadata": {},
   "outputs": [],
   "source": [
    "neighbors = np.arange(1,40)\n",
    "errors_train, errors_validation = [], []\n",
    "for n_ in neighbors:\n",
    "    knn = KNeighborsClassifier(n_neighbors=n_)\n",
    "    knn.fit(X_train, y_train)\n",
    "    \n",
    "    y_pred = knn.predict(X_train)\n",
    "    errors_train.append( np.mean( y_train != y_pred) )\n",
    "    \n",
    "    y_pred = knn.predict(X_test)\n",
    "    errors_validation.append( np.mean( y_test != y_pred) )\n",
    "    \n",
    "plt.plot(neighbors,errors_train)\n",
    "plt.plot(neighbors,errors_validation)\n",
    "plt.legend([\"Train\", \"Test\"])\n",
    "plt.xlabel(\"Number of neighbors\")\n",
    "plt.ylabel(\"Misclassification rate\")\n",
    "plt.grid()"
   ]
  },
  {
   "cell_type": "markdown",
   "metadata": {},
   "source": [
    "### Exercise\n",
    "\n",
    " - In view of the results obtained, which values of the number of neighbors (or range of values) seem optimal? Verify that these values give boudaries that seem coherent to you.\n",
    " - In this plot, which edges of the curve correspond to the over and under-fitting cases respectively?\n",
    " - Why the train error can not be used alone to select the method (here the value of $k$)?\n",
    " \n",
    "It is possible to make the classification task more difficult by reducing the  `class_sep` parameter (default is 1) in the [make_classification](https://scikit-learn.org/stable/modules/generated/sklearn.datasets.make_classification.html) function used to generate the data set. In fact this shrinks the spread between the two classes, which increases the overlapping ratio.\n",
    " - What happens when you decrease gradually the `class_sep` parameter from 1 to 0.5  ? In particular, how can you explain the shape of the test error curve? \n",
    " "
   ]
  },
  {
   "cell_type": "code",
   "execution_count": null,
   "metadata": {},
   "outputs": [],
   "source": []
  },
  {
   "cell_type": "code",
   "execution_count": null,
   "metadata": {},
   "outputs": [],
   "source": []
  }
 ],
 "metadata": {
  "kernelspec": {
   "display_name": "Python 3 (ipykernel)",
   "language": "python",
   "name": "python3"
  },
  "language_info": {
   "codemirror_mode": {
    "name": "ipython",
    "version": 3
   },
   "file_extension": ".py",
   "mimetype": "text/x-python",
   "name": "python",
   "nbconvert_exporter": "python",
   "pygments_lexer": "ipython3",
   "version": "3.9.13"
  },
  "widgets": {
   "application/vnd.jupyter.widget-state+json": {
    "state": {},
    "version_major": 2,
    "version_minor": 0
   }
  }
 },
 "nbformat": 4,
 "nbformat_minor": 4
}
