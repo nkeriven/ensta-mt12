{
 "cells": [
  {
   "cell_type": "markdown",
   "metadata": {},
   "source": [
    "[![Open in Colab](https://colab.research.google.com/assets/colab-badge.svg)](https://colab.research.google.com/github/nkeriven/ensta-mt12/blob/main/notebooks/00_python/N0a_introduction_python.ipynb)"
   ]
  },
  {
   "cell_type": "markdown",
   "metadata": {},
   "source": [
    "# IPython\n",
    "In the following, basics of Python and IPython are presented. In particular, the following items is covered:\n",
    "1. Data types in Python.\n",
    "2. Standard control structures.\n",
    "3. How to get help ? How to do completion ? How to *copy* or *past* from external file ?\n",
    "\n",
    "Most of this general introduction is based on the following book [Python Data Science Handbook](https://github.com/jakevdp/PythonDataScienceHandbook). The link goes to the GitHub pages with a lot of Notebooks available for download. A great source of information, among other things.\n",
    "\n",
    "## Data type in Python\n",
    "Python is a dynamic typed language: variables do not need to be explicitely declared. For instance \n",
    "`range(13)` create an interator of 13 integers from 0 to **12** (note that 13 is **not** included!). Thus it is possible to write this"
   ]
  },
  {
   "cell_type": "code",
   "execution_count": null,
   "metadata": {},
   "outputs": [],
   "source": [
    "accu = 0\n",
    "for i in range(13): # range(13) create an interator of 13 integers from 0 to 12 (13 is not included!), \n",
    "    accu += i\n",
    "print(\"accu = {0}\".format(accu))\n",
    "print(f\"accu = {accu}\") # modern f-string\n",
    "accu = \"I am string now\"\n",
    "print(f\"accu = {accu}\")"
   ]
  },
  {
   "cell_type": "markdown",
   "metadata": {},
   "source": [
    "We do not need to explicitely pass to python that **accu** is of particular type (int, float, etc ...): Python try to infer by itself the type of the variable. In the exemple above, **accu** is first an *integer*, then a *string*. By default a variable number is an *integer*, but Python can adapt the type depending on the operation. "
   ]
  },
  {
   "cell_type": "code",
   "execution_count": null,
   "metadata": {},
   "outputs": [],
   "source": [
    "a = 10\n",
    "print(f\"A is of type {type(a)}\")\n",
    "b = a / 2\n",
    "c = a / 3\n",
    "print(\"b = {0} and c = {1}\".format(b,c))"
   ]
  },
  {
   "cell_type": "markdown",
   "metadata": {},
   "source": [
    "A very convenient type of data structure in python is the **list**, which can be usefull to store different kind of data and have access to them in different ways"
   ]
  },
  {
   "cell_type": "code",
   "execution_count": null,
   "metadata": {},
   "outputs": [],
   "source": [
    "MyList = [1,10]\n",
    "print(MyList[0]) # Python index starts at zero\n",
    "print(MyList[1]) \n",
    "MyList.append(\"Toto\")\n",
    "print(MyList[-1]) # -1 print the last element\n",
    "print(MyList)"
   ]
  },
  {
   "cell_type": "markdown",
   "metadata": {},
   "source": [
    "It is also possible to *iterate* over the elements of the *list* (it is said in Python that a list is an *iterable*)"
   ]
  },
  {
   "cell_type": "code",
   "execution_count": null,
   "metadata": {},
   "outputs": [],
   "source": [
    "for l in MyList:\n",
    "    print(l)\n",
    "    \n",
    "for i,l in enumerate(MyList): # iterate with an index\n",
    "    print(i,l)\n",
    "    \n",
    "MyList2 = ['r', 3, [2,3]] # another list with the same size. All elements have different types\n",
    "for l, ll in zip(MyList, MyList2): # iterate over two lists\n",
    "    print(l,ll)"
   ]
  },
  {
   "cell_type": "markdown",
   "metadata": {},
   "source": [
    "If *list* is an efficient way to store data, Python provide a more efficient data storage when it comes to array processing (matrix/vector operations, linear algebra ...). This will be discussed in the Scipy/Numpy section."
   ]
  },
  {
   "cell_type": "markdown",
   "metadata": {},
   "source": [
    "### Exo\n",
    "- Define a list that contains the following items: \"Parcours\", \"IA\", \"Numérique\", \"Ense3\"\n",
    "- Define a variable that is the sum of the first element and third element of the list and print the variable\n",
    "- Define a variable that is the product of the second element of the list and the number 10 and print the variable"
   ]
  },
  {
   "cell_type": "code",
   "execution_count": null,
   "metadata": {},
   "outputs": [],
   "source": []
  },
  {
   "cell_type": "markdown",
   "metadata": {},
   "source": [
    "### Python memory management\n",
    "Attention, per defaut Python does not copy values **but** it copies the variable reference (i.e. its address). If you not pay attention, it can lead to strange behavior."
   ]
  },
  {
   "cell_type": "code",
   "execution_count": null,
   "metadata": {},
   "outputs": [],
   "source": [
    "list1 = [1, 2, 3]\n",
    "list2 = [4, 5, 6]\n",
    "list3 = list1 # create an alias on list1\n",
    "list3[1] = 0\n",
    "print(f\"list3 = {list3}\") # list3 is changed\n",
    "print(f\"list1 = {list1}\") # list1 is changed as list3\n",
    "\n",
    "\n",
    "# Usually there is a function dedicated to copy to a new variable the values of another variable\n",
    "list3 = list2.copy() # create another list instance initialized with the list2 element values\n",
    "list3[1] = 0\n",
    "print(f\"list3 = {list3}\") # list3 is changed \n",
    "print(f\"list2 = {list2}\") # list2 is not changes"
   ]
  },
  {
   "cell_type": "markdown",
   "metadata": {},
   "source": [
    "## Standard control structures\n",
    "Python has several conventional control structure. Some exemples are given below. The function *range* returns an iterable between the first paramter (include) and the last parameter (excluded). More detail [https://www.pythoncentral.io/pythons-range-function-explained/]."
   ]
  },
  {
   "cell_type": "code",
   "execution_count": null,
   "metadata": {},
   "outputs": [],
   "source": [
    "# For operator\n",
    "print(\"For operator\")\n",
    "for i in range(4,9):\n",
    "    print(f\"i = {i}\")\n",
    "# i is equal to 8 now    \n",
    "\n",
    "# If else then operator\n",
    "print(\"If else then operator\")\n",
    "if i == 10:\n",
    "    print(\"i==10\")\n",
    "elif i > 10:\n",
    "    print(\"i > 10\")\n",
    "else:\n",
    "    print(f\"i = {i}\")\n",
    "    \n",
    "# while operator\n",
    "print(\"While operator\")\n",
    "while i > 0:\n",
    "    i -= 1 # 1 is subtracted from i\n",
    "    print(\"i = {i}\")"
   ]
  },
  {
   "cell_type": "markdown",
   "metadata": {},
   "source": [
    "## Python user facilities\n",
    "Several tools and functions are provided by the language and the **ipython** interpreter to help the user.\n",
    "\n",
    "### Get the documentation\n",
    "The documentation of the any function (given it was correctly implemented) is avalaible using the function `help` or the character `?` (*ipython only*). For instance, if we want to know what does the function `len`"
   ]
  },
  {
   "cell_type": "code",
   "execution_count": null,
   "metadata": {},
   "outputs": [],
   "source": [
    "len(list1)"
   ]
  },
  {
   "cell_type": "code",
   "execution_count": null,
   "metadata": {
    "scrolled": true
   },
   "outputs": [],
   "source": [
    "help(len) # or equivalentely len?"
   ]
  },
  {
   "cell_type": "markdown",
   "metadata": {},
   "source": [
    "It also works with object:"
   ]
  },
  {
   "cell_type": "code",
   "execution_count": null,
   "metadata": {},
   "outputs": [],
   "source": [
    "help(list1)"
   ]
  },
  {
   "cell_type": "code",
   "execution_count": null,
   "metadata": {},
   "outputs": [],
   "source": [
    "len?"
   ]
  },
  {
   "cell_type": "markdown",
   "metadata": {},
   "source": [
    "### Autocompletion\n",
    "Ipython offers autocompletion mechanism (as in Shell for unix user) to explore attributes and functions of objects. It is available using the **Tab** key. For instance to get all the functions/attributes of *list1* you can write `list1.` and press **Tab** key\n"
   ]
  },
  {
   "cell_type": "code",
   "execution_count": null,
   "metadata": {},
   "outputs": [],
   "source": [
    "# use autocompletion to write list1.append(4)\n",
    "list1.\n"
   ]
  },
  {
   "cell_type": "markdown",
   "metadata": {},
   "source": [
    "Then, you can select what you need using the arrows (and off course, get help using *?*)"
   ]
  },
  {
   "cell_type": "code",
   "execution_count": null,
   "metadata": {},
   "outputs": [],
   "source": []
  }
 ],
 "metadata": {
  "kernelspec": {
   "display_name": "Python 3 (ipykernel)",
   "language": "python",
   "name": "python3"
  },
  "language_info": {
   "codemirror_mode": {
    "name": "ipython",
    "version": 3
   },
   "file_extension": ".py",
   "mimetype": "text/x-python",
   "name": "python",
   "nbconvert_exporter": "python",
   "pygments_lexer": "ipython3",
   "version": "3.8.13"
  },
  "widgets": {
   "application/vnd.jupyter.widget-state+json": {
    "state": {},
    "version_major": 2,
    "version_minor": 0
   }
  }
 },
 "nbformat": 4,
 "nbformat_minor": 4
}
