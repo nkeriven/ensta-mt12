{
 "cells": [
  {
   "cell_type": "markdown",
   "metadata": {},
   "source": [
    "[![Open in Colab](https://colab.research.google.com/assets/colab-badge.svg)](https://colab.research.google.com/github/nkeriven/ensta-mt12/blob/main/notebooks/06_clustering/N1_Kmeans_basic.ipynb)"
   ]
  },
  {
   "cell_type": "markdown",
   "metadata": {},
   "source": [
    "# KMEANS basics \n",
    "The purpose of this lab is to implement simple 1D Kmeans clustering algorithm, and compare the obtained results with those obtained using skleran implementation"
   ]
  },
  {
   "cell_type": "code",
   "execution_count": 14,
   "metadata": {},
   "outputs": [],
   "source": [
    "import numpy as np\n",
    "import matplotlib.pyplot as plt\n",
    "from scipy.io import loadmat\n",
    "%matplotlib inline"
   ]
  },
  {
   "cell_type": "markdown",
   "metadata": {},
   "source": [
    "## import data from matlab file : "
   ]
  },
  {
   "cell_type": "code",
   "execution_count": 16,
   "metadata": {},
   "outputs": [
    {
     "name": "stdout",
     "output_type": "stream",
     "text": [
      "--2023-02-02 17:38:47--  https://raw.githubusercontent.com/nkeriven/ensta-mt12/main/notebooks/data/fictitious_train.mat\n",
      "Résolution de raw.githubusercontent.com (raw.githubusercontent.com)… 2606:50c0:8000::154, 2606:50c0:8001::154, 2606:50c0:8002::154, ...\n",
      "Connexion à raw.githubusercontent.com (raw.githubusercontent.com)|2606:50c0:8000::154|:443… connecté.\n",
      "requête HTTP transmise, en attente de la réponse… 404 Not Found\n",
      "2023-02-02 17:38:47 erreur 404 : Not Found.\n",
      "\n"
     ]
    }
   ],
   "source": [
    "!wget https://raw.githubusercontent.com/nkeriven/ensta-mt12/main/notebooks/data/fictitious_train.mat -O fictitious_train.mat"
   ]
  },
  {
   "cell_type": "code",
   "execution_count": 15,
   "metadata": {},
   "outputs": [
    {
     "name": "stdout",
     "output_type": "stream",
     "text": [
      "dict_keys(['__header__', '__version__', '__globals__', 'Xtrain'])\n",
      "dim of X:(20, 1)\n"
     ]
    }
   ],
   "source": [
    "Data=loadmat('fictitious_train.mat')\n",
    "print(Data.keys())\n",
    "X=Data.get('Xtrain')\n",
    "print(f'dim of X:{X.shape}')"
   ]
  },
  {
   "cell_type": "markdown",
   "metadata": {},
   "source": [
    "## Compute the histogram"
   ]
  },
  {
   "cell_type": "code",
   "execution_count": null,
   "metadata": {},
   "outputs": [],
   "source": [
    "bins=np.arange(np.min(X)-1,np.max(X)+2,1)\n",
    "hist_val,bins=np.histogram(X, bins=bins)\n",
    "print(hist_val)\n",
    "print(bins)"
   ]
  },
  {
   "cell_type": "markdown",
   "metadata": {},
   "source": [
    "### or directly visualize the histogram "
   ]
  },
  {
   "cell_type": "code",
   "execution_count": null,
   "metadata": {},
   "outputs": [],
   "source": [
    "bins=np.arange(np.min(X)-1,np.max(X)+2,1)\n",
    "plt.scatter(X,np.zeros_like(X)+.5,c='red',marker='+')\n",
    "n,bin_edges,patches=plt.hist(x=X,bins=bins, color='blue',histtype='step')"
   ]
  },
  {
   "cell_type": "markdown",
   "metadata": {},
   "source": [
    "## Implementation of Kmean on a simple case\n",
    "In this example, the number of clusters is assumed to be known. \n",
    "\n",
    "### Exercize :\n",
    "- Explain/ comment the code below\n",
    "- What is the main problem left aside by this code? "
   ]
  },
  {
   "cell_type": "code",
   "execution_count": null,
   "metadata": {},
   "outputs": [],
   "source": [
    "K=2 #nb of clusters \n",
    "p=1 # dimension (the code below is given for p=1 only)\n"
   ]
  },
  {
   "cell_type": "code",
   "execution_count": null,
   "metadata": {},
   "outputs": [],
   "source": [
    "N=X.size\n",
    "idx=np.zeros((N,1))\n",
    "muvec=np.zeros((K,1)) \n",
    "\n",
    "\n",
    "change = True\n",
    "perm=np.random.choice(range(N), size=2, replace=False)\n",
    "\n",
    "for k in range (0,K): \n",
    "    muvec[k] = X[perm[k],:]\n",
    "\n",
    "for i in range (0,N):\n",
    "    d=(X[i] - muvec )**2\n",
    "    idx[i]=np.where(d==d.min())[0]\n",
    "    \n",
    "nbr_loop = 0\n",
    "while change:\n",
    "    nbr_loop += 1\n",
    "    change=False\n",
    "    #update\n",
    "    for k in range (0,K):\n",
    "        muvec[k]= np.mean( X[idx == k] ) \n",
    "    #prediction\n",
    "    for i in range (0,N):\n",
    "        d=(X[i] - muvec )**2\n",
    "        index=np.where(d==d.min())[0]\n",
    "        if index != idx[i]:\n",
    "            change=True\n",
    "            idx[i]=index\n",
    "            \n",
    "X0=X[idx==0]\n",
    "X1=X[idx==1]\n",
    "bins=np.arange(np.min(X)-1,np.max(X)+2,1)\n",
    "n,bin_edges,patches=plt.hist(x=X,bins=bins, color='blue',histtype='step')\n",
    "plt.scatter(X0,np.zeros_like(X0)+.5,c='red',marker='+', label='class 0')\n",
    "plt.scatter(X1,np.zeros_like(X1)+.5,c='green',marker='+',label='class 1')\n",
    "plt.legend()\n",
    "h=plt.gcf()"
   ]
  },
  {
   "cell_type": "markdown",
   "metadata": {},
   "source": [
    "### sklearn implementation - exercize\n",
    "- Compare the results obtained with the simple code above\n",
    "- Comment and explain the role of the input parameters used in this implementation\n"
   ]
  },
  {
   "cell_type": "code",
   "execution_count": null,
   "metadata": {
    "scrolled": true
   },
   "outputs": [],
   "source": [
    "#https://scikit-learn.org/stable/modules/generated/sklearn.cluster.KMeans.html\n",
    "from sklearn.cluster import KMeans\n",
    "\n",
    "kmeans = KMeans(n_clusters = 2, init = 'k-means++', max_iter = 10, n_init = 10, random_state = 0)\n",
    "kmeans.fit(X)\n",
    "y_kmeans = kmeans.fit_predict(X)\n",
    "\n",
    "Y0=X[y_kmeans==0]\n",
    "Y1=X[y_kmeans==1]\n",
    "plt.scatter(Y0,np.zeros_like(Y0)+.7,c='red',marker='o', label='class 0 skl')\n",
    "plt.scatter(Y1,np.zeros_like(Y1)+.7,c='green',marker='o',label='class 1 skl')\n",
    "plt.scatter(X0,np.zeros_like(X0)+.5,c='red',marker='+', label='class 0')\n",
    "plt.scatter(X1,np.zeros_like(X1)+.5,c='green',marker='+',label='class 1')\n",
    "plt.legend()"
   ]
  },
  {
   "cell_type": "code",
   "execution_count": null,
   "metadata": {},
   "outputs": [],
   "source": []
  }
 ],
 "metadata": {
  "kernelspec": {
   "display_name": "Python 3 (ipykernel)",
   "language": "python",
   "name": "python3"
  },
  "language_info": {
   "codemirror_mode": {
    "name": "ipython",
    "version": 3
   },
   "file_extension": ".py",
   "mimetype": "text/x-python",
   "name": "python",
   "nbconvert_exporter": "python",
   "pygments_lexer": "ipython3",
   "version": "3.9.13"
  }
 },
 "nbformat": 4,
 "nbformat_minor": 4
}
