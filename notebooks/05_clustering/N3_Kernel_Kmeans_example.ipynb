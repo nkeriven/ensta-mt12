{
 "cells": [
  {
   "cell_type": "markdown",
   "metadata": {},
   "source": [
    "[![Open in Colab](https://colab.research.google.com/assets/colab-badge.svg)](https://colab.research.google.com/github/nkeriven/ensta-mt12/blob/main/notebooks/05_clustering/N3_Kernel_Kmeans_example.ipynb)"
   ]
  },
  {
   "cell_type": "markdown",
   "metadata": {},
   "source": [
    "# Kernel Kmeans Example, on a 2 classes problem"
   ]
  },
  {
   "cell_type": "code",
   "execution_count": null,
   "metadata": {},
   "outputs": [],
   "source": [
    "import numpy as np\n",
    "import matplotlib.pyplot as plt\n",
    "from scipy.io import loadmat\n",
    "import scipy.stats as stats\n",
    "%matplotlib inline"
   ]
  },
  {
   "cell_type": "markdown",
   "metadata": {},
   "source": [
    "## Create data set : "
   ]
  },
  {
   "cell_type": "code",
   "execution_count": null,
   "metadata": {},
   "outputs": [],
   "source": [
    "D1=np.random.randn(80,)*.1 +1\n",
    "P1=np.random.rand(80,)*2*np.pi\n",
    "D2=np.random.randn(40,)*.2\n",
    "P2=np.random.rand(40,)*2*np.pi\n",
    "\n",
    "C1=np.zeros((80,2))\n",
    "C1[:,0]=D1*np.cos(P1)\n",
    "C1[:,1]=D1*np.sin(P1)\n",
    "\n",
    "C2=np.zeros((40,2))\n",
    "C2[:,0]=D2*np.cos(P2)\n",
    "C2[:,1]=D2*np.sin(P2)\n",
    "\n",
    "plt.subplot(121)\n",
    "fig=plt.scatter(C1[:,0],C1[:,1],marker='+', color='blue')\n",
    "fig=plt.scatter(C2[:,0],C2[:,1],marker='o', color='red')\n",
    "plt.axis('equal')\n",
    "plt.title('theoretical')\n",
    "X=np.append(C1,C2,axis=0)\n",
    "plt.subplot(122)\n",
    "plt.scatter(X[:,0],X[:,1])\n",
    "plt.axis('equal')\n",
    "plt.title('observed');\n"
   ]
  },
  {
   "cell_type": "markdown",
   "metadata": {},
   "source": [
    "### Exercice\n",
    "\n",
    "- Propose a change of representation space to allow successful Kmeans clustering in a 1D space. Implement it (use Kmeans_basic.ipynb example)\n",
    "- Explain the role, then change the parameter values of 'gamma' and 'pos' in Kernel Kmeans code below.\n",
    "- Comment your findings"
   ]
  },
  {
   "cell_type": "code",
   "execution_count": null,
   "metadata": {},
   "outputs": [],
   "source": [
    "#Kernel computation \n",
    "N=X.shape[0]\n",
    "Ker=np.zeros((N,N))\n",
    "\n",
    "\n",
    "gamma=1\n",
    "for i in range(0,N):\n",
    "    for j in range(0,N):\n",
    "        d=np.sum((X[i,:]-X[j,:])**2)\n",
    "        Ker[i,j]=np.exp(-gamma*d)  \n",
    "# Init\n",
    "converged = 0;\n",
    "# Assign all objects into one cluster except one\n",
    "# Kernel K-means is *very* sensitive to initial conditions (as is Kmeans).  Try altering\n",
    "# this initialisation to see the effect.\n",
    "# Use e.g. (Gamma=10, pos<80,  or Gamma=1, pos>80  on this example : explain)\n",
    "K = 2;\n",
    "#Z = np.matlib.repmat(np.array([1,0]),N,1);    \n",
    "Z = np.zeros((N,2))\n",
    "Z[:, 0] = 1\n",
    "s=np.sum(X**2,axis=1)\n",
    "pos= np.where(s==s.min())[0]\n",
    "#pos=1\n",
    "Z[pos,:]=[0,1]\n",
    "di=np.zeros((N,K))\n",
    "count=0\n",
    "\n",
    "while converged == 0:\n",
    "    count+=1\n",
    "    Nk=np.sum(Z,axis=0)\n",
    "    converged=1\n",
    "    for k in range(0,K):\n",
    "        Vk=Z[:,k]\n",
    "        di[:,k] = np.diag(Ker) - (2/Nk[k])*Ker@Vk + 1/(Nk[k]**2)*Vk.T@Ker@Vk\n",
    "\n",
    "    oldZ=np.copy(Z)\n",
    "    Z=np.zeros((N,K))\n",
    "    \n",
    "    for i in range (0,N):\n",
    "        if di[i,0]<di[i,1]:\n",
    "            Z[i,:]=[1,0]\n",
    "            if Z[i,0]!=oldZ[i,0] :\n",
    "                converged=0\n",
    "        else:\n",
    "            Z[i,:]=[0,1]\n",
    "            if Z[i,1]!=oldZ[i,1] :\n",
    "                converged=0\n",
    "\n",
    "#visu\n",
    "IndC0=np.where(Z[:,0]==1)[0]\n",
    "IndC1=np.where(Z[:,1]==1)[0]          \n",
    "  \n",
    "plt.scatter(X[IndC0,0],X[IndC0,1],color='green',marker='o')\n",
    "plt.scatter(X[IndC1,0],X[IndC1,1],color='cyan',marker='o')\n",
    "plt.axis('equal');\n",
    "\n",
    "print('converged in {} iterations'.format(count))"
   ]
  }
 ],
 "metadata": {
  "kernelspec": {
   "display_name": "Python 3 (ipykernel)",
   "language": "python",
   "name": "python3"
  },
  "language_info": {
   "codemirror_mode": {
    "name": "ipython",
    "version": 3
   },
   "file_extension": ".py",
   "mimetype": "text/x-python",
   "name": "python",
   "nbconvert_exporter": "python",
   "pygments_lexer": "ipython3",
   "version": "3.11.5"
  }
 },
 "nbformat": 4,
 "nbformat_minor": 4
}
