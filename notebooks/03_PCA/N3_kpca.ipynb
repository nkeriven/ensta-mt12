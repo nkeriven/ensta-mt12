{
 "cells": [
  {
   "cell_type": "markdown",
   "id": "e37ee534",
   "metadata": {},
   "source": [
    "[![Open in Colab](https://colab.research.google.com/assets/colab-badge.svg)](https://colab.research.google.com/github/nkeriven/ensta-mt12/blob/main/notebooks/02_PCA/N3_kpca.ipynb)"
   ]
  },
  {
   "cell_type": "markdown",
   "id": "648bcac6",
   "metadata": {},
   "source": [
    "### Illustration of Kernel PCA\n",
    "\n",
    "In this notebook we are going to illustrate kernel PCA on simple non-linearly separable data."
   ]
  },
  {
   "cell_type": "code",
   "execution_count": null,
   "id": "24c11756",
   "metadata": {},
   "outputs": [],
   "source": [
    "import numpy as np\n",
    "import matplotlib.pyplot as plt\n",
    "import scipy.linalg as sc\n",
    "from scipy.spatial.distance import cdist\n",
    "from sklearn import decomposition\n",
    "np.random.seed(0)"
   ]
  },
  {
   "cell_type": "markdown",
   "id": "86a9f760",
   "metadata": {},
   "source": [
    "We generate the data as two concentric circle"
   ]
  },
  {
   "cell_type": "code",
   "execution_count": null,
   "id": "bb20a3dc",
   "metadata": {},
   "outputs": [],
   "source": [
    "n=100\n",
    "d=2\n",
    "XX, temp = .4*np.random.randn(n,d), np.random.randn(n,d)\n",
    "temp = 2*temp/np.sqrt((temp**2).sum(axis=1))[:,None]\n",
    "XX = np.concatenate((XX, temp + .1*np.random.randn(n,d)))\n",
    "y = np.concatenate((np.zeros(n), np.ones(n)))\n",
    "\n",
    "plt.scatter(XX[:,0],XX[:,1], c=y)\n",
    "plt.axis('equal')\n",
    "plt.title('Original data', fontsize=17)"
   ]
  },
  {
   "cell_type": "markdown",
   "id": "92257a50",
   "metadata": {},
   "source": [
    "We fit PCA on the data and transform them (project them onto the principal components)."
   ]
  },
  {
   "cell_type": "code",
   "execution_count": null,
   "id": "458212a6",
   "metadata": {},
   "outputs": [],
   "source": [
    "pca = decomposition.PCA(n_components=2)\n",
    "ZZ = pca.fit(XX).transform(XX)\n",
    "plt.scatter(ZZ[:,0],ZZ[:,1], c=y)\n",
    "plt.axis('equal')\n",
    "plt.title('Data transformed by PCA', fontsize=17)"
   ]
  },
  {
   "cell_type": "markdown",
   "id": "e86a56fd",
   "metadata": {},
   "source": [
    "Let's examine the explained variance ratio"
   ]
  },
  {
   "cell_type": "code",
   "execution_count": null,
   "id": "a6ca46f6",
   "metadata": {},
   "outputs": [],
   "source": [
    "plt.plot(pca.explained_variance_ratio_)\n",
    "plt.ylim([0,1])"
   ]
  },
  {
   "cell_type": "markdown",
   "id": "1e5da2de",
   "metadata": {},
   "source": [
    "How do you explain the plot above?"
   ]
  },
  {
   "cell_type": "markdown",
   "id": "cf4df6e8",
   "metadata": {},
   "source": [
    "### Exo\n",
    "\n",
    "Do the same with `decomposition.KernelPCA(n_components=2, kernel='rbf')`"
   ]
  },
  {
   "cell_type": "code",
   "execution_count": null,
   "id": "ab78bb98",
   "metadata": {
    "scrolled": true
   },
   "outputs": [],
   "source": [
    "## EXO"
   ]
  },
  {
   "cell_type": "code",
   "execution_count": null,
   "id": "3cbbe918",
   "metadata": {},
   "outputs": [],
   "source": [
    "plt.plot(kpca.eigenvalues_/kpca.eigenvalues_.sum())"
   ]
  }
 ],
 "metadata": {
  "kernelspec": {
   "display_name": "Python 3 (ipykernel)",
   "language": "python",
   "name": "python3"
  },
  "language_info": {
   "codemirror_mode": {
    "name": "ipython",
    "version": 3
   },
   "file_extension": ".py",
   "mimetype": "text/x-python",
   "name": "python",
   "nbconvert_exporter": "python",
   "pygments_lexer": "ipython3",
   "version": "3.9.13"
  }
 },
 "nbformat": 4,
 "nbformat_minor": 5
}
