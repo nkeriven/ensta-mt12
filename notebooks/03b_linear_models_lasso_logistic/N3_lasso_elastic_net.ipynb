{
 "cells": [
  {
   "cell_type": "markdown",
   "id": "bca1aa64",
   "metadata": {},
   "source": [
    "[![Open in Colab](https://colab.research.google.com/assets/colab-badge.svg)](https://colab.research.google.com/github/nkeriven/ensta-mt12/blob/main/notebooks/04b_linear_models_lasso_logistic/N3_lasso_elastic_net.ipynb)"
   ]
  },
  {
   "cell_type": "markdown",
   "id": "2b43daa5",
   "metadata": {},
   "source": [
    "Elastic-Net is a method that combines L1 and L2 regularization. It can output solutions that are smoother than Lasso, but sparser than Tikhonov. See https://scikit-learn.org/stable/modules/generated/sklearn.linear_model.ElasticNet.html\n",
    "\n",
    "*From scikit learn*"
   ]
  },
  {
   "cell_type": "code",
   "execution_count": null,
   "id": "095958ff",
   "metadata": {},
   "outputs": [],
   "source": [
    "import numpy as np\n",
    "import matplotlib.pyplot as plt\n",
    "from sklearn.model_selection import train_test_split\n",
    "\n",
    "from sklearn.metrics import r2_score\n",
    "\n",
    "np.random.seed(0)\n",
    "\n",
    "n_samples, n_features = 80, 100\n",
    "X = np.random.randn(n_samples, n_features)\n",
    "\n",
    "# Decreasing coef w. alternated signs for visualization\n",
    "idx = np.arange(n_features)\n",
    "coef = (-1) ** idx * np.exp(-idx / 10)\n",
    "coef[10:] = 0  # sparsify coef\n",
    "y = np.dot(X, coef)\n",
    "\n",
    "# Add noise\n",
    "y += 0.01 * np.random.normal(size=n_samples)\n",
    "\n",
    "# Split data in train set and test set\n",
    "n_samples = X.shape[0]\n",
    "X_train, X_test, y_train, y_test = train_test_split(X, y, test_size=.5)"
   ]
  },
  {
   "cell_type": "code",
   "execution_count": null,
   "id": "3d69028a",
   "metadata": {},
   "outputs": [],
   "source": [
    "from sklearn.linear_model import Lasso\n",
    "\n",
    "alpha = .1\n",
    "lasso = Lasso(alpha=alpha)\n",
    "\n",
    "y_pred_lasso = lasso.fit(X_train, y_train).predict(X_test)\n",
    "r2_score_lasso = r2_score(y_test, y_pred_lasso)\n",
    "print(lasso)\n",
    "print(\"r^2 on test data : %f\" % r2_score_lasso)"
   ]
  },
  {
   "cell_type": "code",
   "execution_count": null,
   "id": "c2a2466b",
   "metadata": {},
   "outputs": [],
   "source": [
    "from sklearn.linear_model import ElasticNet\n",
    "\n",
    "enet = ElasticNet(alpha=alpha, l1_ratio=0.7)\n",
    "\n",
    "y_pred_enet = enet.fit(X_train, y_train).predict(X_test)\n",
    "r2_score_enet = r2_score(y_test, y_pred_enet)\n",
    "print(enet)\n",
    "print(\"r^2 on test data : %f\" % r2_score_enet)"
   ]
  },
  {
   "cell_type": "code",
   "execution_count": null,
   "id": "0438ee5d",
   "metadata": {},
   "outputs": [],
   "source": [
    "m, s, _ = plt.stem(\n",
    "    np.where(enet.coef_)[0],\n",
    "    enet.coef_[enet.coef_ != 0],\n",
    "    markerfmt=\"x\",\n",
    "    label=\"Elastic net coefficients\",\n",
    ")\n",
    "plt.setp([m, s], color=\"#2ca02c\")\n",
    "m, s, _ = plt.stem(\n",
    "    np.where(lasso.coef_)[0],\n",
    "    lasso.coef_[lasso.coef_ != 0],\n",
    "    markerfmt=\"x\",\n",
    "    label=\"Lasso coefficients\",\n",
    ")\n",
    "plt.setp([m, s], color=\"#ff7f0e\")\n",
    "plt.stem(\n",
    "    np.where(coef)[0],\n",
    "    coef[coef != 0],\n",
    "    label=\"true coefficients\",\n",
    "    markerfmt=\"bx\",\n",
    ")\n",
    "\n",
    "plt.legend(loc=\"best\")\n",
    "plt.title(\n",
    "    \"Lasso $R^2$: %.3f, Elastic Net $R^2$: %.3f\" % (r2_score_lasso, r2_score_enet)\n",
    ")\n",
    "plt.show()"
   ]
  }
 ],
 "metadata": {
  "kernelspec": {
   "display_name": "Python 3 (ipykernel)",
   "language": "python",
   "name": "python3"
  },
  "language_info": {
   "codemirror_mode": {
    "name": "ipython",
    "version": 3
   },
   "file_extension": ".py",
   "mimetype": "text/x-python",
   "name": "python",
   "nbconvert_exporter": "python",
   "pygments_lexer": "ipython3",
   "version": "3.9.13"
  }
 },
 "nbformat": 4,
 "nbformat_minor": 5
}
