{
 "cells": [
  {
   "cell_type": "markdown",
   "id": "337d60c6",
   "metadata": {},
   "source": [
    "[![Open in Colab](https://colab.research.google.com/assets/colab-badge.svg)](https://colab.research.google.com/github/nkeriven/ensta-mt12/blob/main/notebooks/07_RNN_LSTM/N3_MAB.ipynb)"
   ]
  },
  {
   "cell_type": "markdown",
   "id": "4f5ba62c",
   "metadata": {},
   "source": [
    "Inspired by https://github.com/akhadangi/Multi-armed-Bandits\n",
    "\n",
    "We are going to implement simple Eps-greedy and UCB and test them on synthetic data."
   ]
  },
  {
   "cell_type": "code",
   "execution_count": null,
   "id": "76e719a2",
   "metadata": {},
   "outputs": [],
   "source": [
    "\n",
    "# Do not edit. These are the only imports permitted.\n",
    "%matplotlib inline\n",
    "import numpy as np\n",
    "from numpy.linalg import inv\n",
    "import matplotlib.pyplot as plt\n",
    "from abc import ABC, abstractmethod"
   ]
  },
  {
   "cell_type": "markdown",
   "id": "e6152f77",
   "metadata": {},
   "source": [
    "Let's first define a Bandit"
   ]
  },
  {
   "cell_type": "code",
   "execution_count": null,
   "id": "f765805a",
   "metadata": {},
   "outputs": [],
   "source": [
    "class Bandit:\n",
    "    def __init__(self, r_values, sigma=1):\n",
    "        self.r_values = r_values\n",
    "        self.sigma = sigma\n",
    "    def get_reward(self, arm):\n",
    "        return np.abs(self.r_values[arm] + self.sigma*np.random.randn())"
   ]
  },
  {
   "cell_type": "markdown",
   "id": "c9d46220",
   "metadata": {},
   "source": [
    "Let us now define algorithm for bandits. We will first define a base class with common methods, then instanciate it for several algorithms.\n",
    "\n",
    "This is how we implement an **abstract class** in Python. Basically a class that serve as a common superclass for other classes, and that cannot be instanciated on its own"
   ]
  },
  {
   "cell_type": "code",
   "execution_count": null,
   "id": "7aeae024",
   "metadata": {},
   "outputs": [],
   "source": [
    "class MAB(ABC):\n",
    "    \n",
    "    @abstractmethod\n",
    "    def __init__(self, narms):\n",
    "        self.narms = narms\n",
    "        self.step_n = 0\n",
    "        self.step_arm = np.zeros(narms)\n",
    "        self.AM_reward = np.zeros(narms)\n",
    "    \n",
    "    @abstractmethod\n",
    "    def play(self, r_values):\n",
    "        # choose an arm which yields maximum value of average mean reward, tie breaking randomly\n",
    "        chosen_arm = np.random.choice(np.where(r_values==r_values.max())[0])\n",
    "        return chosen_arm\n",
    "        \n",
    "    \n",
    "    @abstractmethod\n",
    "    def update(self, arm, reward):\n",
    "        # update the overall step of the model\n",
    "        self.step_n += 1\n",
    "        # update the step of individual arms\n",
    "        self.step_arm[arm] += 1\n",
    "        # update average mean reward of each arm\n",
    "        self.AM_reward[arm] = ((self.step_arm[arm] - 1) / float(self.step_arm[arm]) \n",
    "        * self.AM_reward[arm] + (1 / float(self.step_arm[arm])) * reward)\n",
    "        return\n",
    "        pass\n"
   ]
  },
  {
   "cell_type": "code",
   "execution_count": null,
   "id": "9f8dd010",
   "metadata": {},
   "outputs": [],
   "source": [
    "class EpsGreedy(MAB): # this class inherits from MAB\n",
    "    \n",
    "    def __init__(self, narms, epsilon):\n",
    "        super().__init__(narms)\n",
    "        # Exploration probability\n",
    "        self.epsilon = epsilon\n",
    "        # To play each arm at least once\n",
    "        self.already_played = np.zeros(narms)\n",
    "        \n",
    "        return\n",
    "        \n",
    "    # Play one round and return the action (chosen arm)\n",
    "    def play(self):\n",
    "        # Generate random number\n",
    "        p = np.random.rand()\n",
    "        \n",
    "        if p < self.epsilon:\n",
    "            action = np.random.choice(self.narms)\n",
    "        else:\n",
    "\n",
    "            if self.already_played.sum()<self.narms:\n",
    "                # if there are arms never played yet, draw one of them\n",
    "                action = np.random.choice(np.where(self.already_played==0)[0])\n",
    "                self.already_played[action]=1\n",
    "            else:\n",
    "                action = super().play(self.AM_reward)\n",
    "        return action\n",
    "    \n",
    "        \n",
    "    def update(self, arm, reward):\n",
    "        super().update(arm, reward)\n",
    "        return"
   ]
  },
  {
   "cell_type": "markdown",
   "id": "cba4fda0",
   "metadata": {},
   "source": [
    "Let's test epsilon-greedy algo against the best policy."
   ]
  },
  {
   "cell_type": "code",
   "execution_count": null,
   "id": "9711660c",
   "metadata": {},
   "outputs": [],
   "source": [
    "r_val = 3*np.random.rand(10)\n",
    "sigma = 1\n",
    "epsg = EpsGreedy(len(r_val), .8)\n",
    "bandit = Bandit(r_val, sigma)\n",
    "R = 100\n",
    "r_eps = [0]\n",
    "r_best = [0]\n",
    "for r in range(R):\n",
    "    arm_eps = epsg.play()\n",
    "    eps_rew = bandit.get_reward(arm_eps)\n",
    "    r_eps.append(r_eps[-1] + eps_rew)\n",
    "    epsg.update(arm_eps, eps_rew)\n",
    "    \n",
    "    best_rew = bandit.get_reward(np.argmax(r_val, axis=0))\n",
    "    r_best.append(r_best[-1] + best_rew)"
   ]
  },
  {
   "cell_type": "code",
   "execution_count": null,
   "id": "3a0117f7",
   "metadata": {},
   "outputs": [],
   "source": [
    "print(epsg.AM_reward)"
   ]
  },
  {
   "cell_type": "code",
   "execution_count": null,
   "id": "d4034387",
   "metadata": {},
   "outputs": [],
   "source": [
    "r_val"
   ]
  },
  {
   "cell_type": "code",
   "execution_count": null,
   "id": "dc9cb218",
   "metadata": {},
   "outputs": [],
   "source": [
    "plt.plot(r_eps, label='epsilon')\n",
    "plt.plot(r_best, label='best')\n",
    "plt.legend()"
   ]
  },
  {
   "cell_type": "markdown",
   "id": "c207a6a9",
   "metadata": {},
   "source": [
    "Play with epsilon and the r_value a bit. Draw a curve wrt epsilon"
   ]
  },
  {
   "cell_type": "markdown",
   "id": "ca6b3ae9",
   "metadata": {},
   "source": [
    "### UCB\n",
    "\n",
    "Let's implement UCB. This is just a change in how we draw arm."
   ]
  },
  {
   "cell_type": "code",
   "execution_count": null,
   "id": "1be811c5",
   "metadata": {},
   "outputs": [],
   "source": [
    "\n",
    "class UCB(MAB): # this class inherits from MAB\n",
    "    \n",
    "    def __init__(self, narms, rho=1):\n",
    "        super().__init__(narms)\n",
    "        # To play each arm at least once\n",
    "        self.already_played = np.zeros(narms)\n",
    "        self.rho=rho\n",
    "        \n",
    "        return\n",
    "        \n",
    "    # Play one round and return the action (chosen arm)\n",
    "    def play(self):\n",
    "        if self.already_played.sum()<self.narms:\n",
    "            # if there are arms never played yet, draw one of them\n",
    "            action = np.random.choice(np.where(self.already_played==0)[0])\n",
    "            self.already_played[action]=1\n",
    "        else:\n",
    "            ucb_values = self.AM_reward + np.sqrt(self.rho *(np.log(self.step_n)) / self.step_arm)\n",
    "            action = super().play(ucb_values)\n",
    "        return action\n",
    "    \n",
    "        \n",
    "    def update(self, arm, reward):\n",
    "        super().update(arm, reward)\n",
    "        return"
   ]
  },
  {
   "cell_type": "code",
   "execution_count": null,
   "id": "f7ef8881",
   "metadata": {},
   "outputs": [],
   "source": [
    "r_val = 3*np.random.rand(15)\n",
    "sigma = 1\n",
    "epsg = EpsGreedy(len(r_val), epsilon = .8)\n",
    "ucb = UCB(len(r_val))\n",
    "bandit = Bandit(r_val, sigma)\n",
    "R = 150\n",
    "r_eps = [0]\n",
    "r_ucb = [0]\n",
    "r_best = [0]\n",
    "for r in range(R):\n",
    "    arm_eps = epsg.play()\n",
    "    eps_rew = bandit.get_reward(arm_eps)\n",
    "    r_eps.append(r_eps[-1] + eps_rew)\n",
    "    epsg.update(arm_eps, eps_rew)\n",
    "    \n",
    "    arm_ucb = ucb.play()\n",
    "    ucb_rew = bandit.get_reward(arm_ucb)\n",
    "    r_ucb.append(r_ucb[-1] + ucb_rew)\n",
    "    ucb.update(arm_ucb, ucb_rew)\n",
    "    \n",
    "    best_rew = bandit.get_reward(np.argmax(r_val, axis=0))\n",
    "    r_best.append(r_best[-1] + best_rew)"
   ]
  },
  {
   "cell_type": "code",
   "execution_count": null,
   "id": "414e6db1",
   "metadata": {},
   "outputs": [],
   "source": [
    "plt.plot(r_eps, label='epsilon')\n",
    "plt.plot(r_best, label='best')\n",
    "plt.plot(r_ucb, label='ucb')\n",
    "plt.legend()"
   ]
  },
  {
   "cell_type": "markdown",
   "id": "ff6f1907",
   "metadata": {},
   "source": [
    "Play with the parameters of the problem. What do you observe ?"
   ]
  }
 ],
 "metadata": {
  "kernelspec": {
   "display_name": "Python 3 (ipykernel)",
   "language": "python",
   "name": "python3"
  },
  "language_info": {
   "codemirror_mode": {
    "name": "ipython",
    "version": 3
   },
   "file_extension": ".py",
   "mimetype": "text/x-python",
   "name": "python",
   "nbconvert_exporter": "python",
   "pygments_lexer": "ipython3",
   "version": "3.11.5"
  }
 },
 "nbformat": 4,
 "nbformat_minor": 5
}
