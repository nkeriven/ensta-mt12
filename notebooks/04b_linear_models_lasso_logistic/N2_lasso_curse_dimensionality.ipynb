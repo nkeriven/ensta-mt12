{
 "cells": [
  {
   "cell_type": "markdown",
   "metadata": {},
   "source": [
    "[![Open in Colab](https://colab.research.google.com/assets/colab-badge.svg)](https://colab.research.google.com/github/nkeriven/ensta-mt12/blob/main/notebooks/04b_linear_models_lasso_logistic/N2_lasso_curse_dimensionality.ipynb)"
   ]
  },
  {
   "cell_type": "markdown",
   "metadata": {},
   "source": [
    "## Load the *Advertising* Data Set\n",
    "\n",
    "Sales (in thousands of units) for a particular product and Advertising budgets (in thousands of dollars) of the product for television, radio and newspapers. The purpose of the regression is to predict the `Sales` (target variable) based on the three variables `TV`, `Radio` and `Newspaper` which measure advertising budgets for each media respectively.\n"
   ]
  },
  {
   "cell_type": "code",
   "execution_count": null,
   "metadata": {},
   "outputs": [],
   "source": [
    "import numpy as np\n",
    "import pandas as pd\n",
    "import matplotlib.pyplot as plt\n",
    "\n",
    "# Load in the Advertising data set\n",
    "df = pd.read_csv('https://raw.githubusercontent.com/nkeriven/ensta-mt12/main/notebooks/data/Advertising.csv')\n",
    "# Data distribution\n",
    "print('Summary statistics')\n",
    "df.describe()"
   ]
  },
  {
   "cell_type": "code",
   "execution_count": null,
   "metadata": {},
   "outputs": [],
   "source": [
    "X = df.drop('Sales', axis=1) # TV, Radio and Newspaper variables only\n",
    "y = df['Sales'] # response\n",
    "print(X.shape) # data dimensions: n (sample size) x p (dimension size)"
   ]
  },
  {
   "cell_type": "markdown",
   "metadata": {},
   "source": [
    "## Apply linear regression on the original dataset"
   ]
  },
  {
   "cell_type": "code",
   "execution_count": null,
   "metadata": {},
   "outputs": [],
   "source": [
    "from sklearn.model_selection import train_test_split\n",
    "\n",
    "# Split data -> 1/2 for learning & 1/2 for validation\n",
    "X_train, X_test, y_train, y_test = train_test_split(X, y, test_size=0.75, random_state=0)\n",
    "print('Training set dimensions: {}\\n'.format(X_train.shape)) # training set dimensions: n (sample size) x p (dimension size)\n",
    "\n",
    "# Apply linear regression\n",
    "from sklearn.linear_model import LinearRegression\n",
    "linrgr =  LinearRegression()\n",
    "linrgr.fit(X_train, y_train)\n",
    "\n",
    "# Get the estimated weights\n",
    "df_weights = pd.DataFrame.from_records( linrgr.coef_.reshape(1,-1), columns=X.columns, index=['Estimated Weights'])\n",
    "print(df_weights)\n",
    "\n",
    "# Get the coefficient of determination R2\n",
    "r2 = linrgr.score(X_test,y_test)\n",
    "print(\"\\nLinear model explains {:.0f}% of the Sales variance\".format(100*r2))"
   ]
  },
  {
   "cell_type": "markdown",
   "metadata": {},
   "source": [
    "**Exercise:**\n",
    "- Does the linear model seems accurate for this task and dataset?\n",
    "- What are the most significant variables to predict scale (*hint*: you may scale the training data if you want to be sure to correctly intepret the weight)"
   ]
  },
  {
   "cell_type": "markdown",
   "metadata": {},
   "source": [
    "## Curse of dimensionality \n",
    "\n",
    "We now add  a large number of noisy (i.e. not correlated to the target) data to the features, and we observe the resulting performances for different regression methods"
   ]
  },
  {
   "cell_type": "code",
   "execution_count": null,
   "metadata": {},
   "outputs": [],
   "source": [
    "from sklearn.preprocessing import StandardScaler \n",
    "\n",
    "# Select random seed\n",
    "np.random.seed(1)\n",
    "\n",
    "# Generate the noisy variables \n",
    "p_noise = 30 # number of noisy data to add\n",
    "X_noisy = X.copy()\n",
    "E = np.random.randn(len(y), p_noise)\n",
    "# Add the noisy data at the end of the informative features\n",
    "for i in range(p_noise):\n",
    "    X_noisy.insert(loc=len(X_noisy.columns), column='noise_'+str(i), value = E[:,i])\n",
    "    \n",
    "# labels of the informative and noisy variables\n",
    "var_names = X_noisy.columns\n",
    "\n",
    "# normalize the data\n",
    "scaler = StandardScaler()\n",
    "X_noisy = scaler.fit_transform(X_noisy)\n",
    "\n",
    "# Split data -> 1/2 for learning & 1/2 for validation\n",
    "X_train, X_test, y_train, y_test = train_test_split(X_noisy, y, test_size=0.75, random_state=0)\n",
    "print(X_train.shape) # training set dimensions: n (sample size) x p (dimension size)"
   ]
  },
  {
   "cell_type": "code",
   "execution_count": null,
   "metadata": {},
   "outputs": [],
   "source": [
    "from sklearn.linear_model import LinearRegression\n",
    "from sklearn.svm import SVR\n",
    "from sklearn.neighbors import KNeighborsRegressor\n",
    "from sklearn.ensemble import RandomForestRegressor\n",
    "\n",
    "from sklearn.model_selection import train_test_split\n",
    "from sklearn.metrics import r2_score\n",
    "\n",
    "# Init regressors\n",
    "regressors = [LinearRegression(), SVR(kernel='linear'), KNeighborsRegressor()]\n",
    "names = [\"Linear Regression\", \"Support Vector Machines\", \"K Nearest Neighbors\"]\n",
    "\n",
    "for rgr, name in zip(regressors, names):\n",
    "    rgr.fit(X_train, y_train)\n",
    "    y_pred = rgr.predict(X_test) # predict the label of X_test from X_train and y_train\n",
    "    r2 = r2_score(y_test, y_pred) # Compute the overall accuracy\n",
    "    print('Coef. of Determination R2 for {1}: \\t {0:.2f}'.format(r2,name))"
   ]
  },
  {
   "cell_type": "markdown",
   "metadata": {},
   "source": [
    "**Exercise:**\n",
    "- Does the methods without regularization work well  on this high dimensional and noisy data?"
   ]
  },
  {
   "cell_type": "code",
   "execution_count": null,
   "metadata": {},
   "outputs": [],
   "source": [
    "# Optimize the number of neighbors in knn \n",
    "neighbors = np.arange(1,30)\n",
    "errors_train, errors_validation = [], []\n",
    "for n_ in neighbors:\n",
    "    knn = KNeighborsRegressor(n_neighbors=n_)\n",
    "    knn.fit(X_train, y_train)\n",
    "    \n",
    "    y_pred = knn.predict(X_train)\n",
    "    errors_train.append(r2_score(y_train, y_pred))\n",
    "    \n",
    "    y_pred = knn.predict(X_test)\n",
    "    errors_validation.append(r2_score(y_test, y_pred))\n",
    "    \n",
    "plt.plot(neighbors,np.asarray(errors_train))\n",
    "plt.plot(neighbors,np.asarray(errors_validation))\n",
    "plt.legend([\"Train\", \"Test\"])\n",
    "plt.xlabel(\"Number of neighbors\")\n",
    "plt.ylabel(\"Coef. of Determination R2 \")\n",
    "plt.grid()"
   ]
  },
  {
   "cell_type": "markdown",
   "metadata": {},
   "source": [
    "**Exercise:**\n",
    "- Does the knn regressor based on euclidean metric seems accurate for this task and dataset? How can we explain that?"
   ]
  },
  {
   "cell_type": "markdown",
   "metadata": {},
   "source": [
    "## Regularization and Variable selection"
   ]
  },
  {
   "cell_type": "code",
   "execution_count": null,
   "metadata": {},
   "outputs": [],
   "source": [
    "# Make Lasso Regression\n",
    "from sklearn.linear_model import LassoCV\n",
    "\n",
    "lassoCV = LassoCV(cv=5)\n",
    "lassoCV.fit(X_train, y_train)\n",
    "alpha_best = lassoCV.alpha_\n",
    "\n",
    "y_pred = lassoCV.predict(X_test) # predict the label of X_test from X_train and y_train\n",
    "r2 = r2_score(y_test, y_pred) # Compute the overall accuracy\n",
    "print('Coef. of Determination R2 for penalized Log Reg: \\t {0:.2f}'.format(r2,name))"
   ]
  },
  {
   "cell_type": "code",
   "execution_count": null,
   "metadata": {},
   "outputs": [],
   "source": [
    "# Get the Lasso estimated weights\n",
    "df_weights = pd.DataFrame.from_records(lassoCV.coef_.reshape(1,-1).copy(), \n",
    "                                       columns=var_names, \n",
    "                                       index=['Estimated Weights'])\n",
    "pd.pandas.set_option('display.max_columns', None)\n",
    "print(df_weights)"
   ]
  },
  {
   "cell_type": "markdown",
   "metadata": {},
   "source": [
    "**Exercise:**\n",
    "- Does the lasso regression works well on this high dimensional and noisy data?\n",
    "- Does it suceed in recovering the significant features?"
   ]
  },
  {
   "cell_type": "markdown",
   "metadata": {},
   "source": [
    "## Show Lasso path"
   ]
  },
  {
   "cell_type": "code",
   "execution_count": null,
   "metadata": {},
   "outputs": [],
   "source": [
    "from sklearn.linear_model import Lasso\n",
    "# warning: don't use lasso_path() or lars_path() that appear to \n",
    "# be bugged (on my install).  \n",
    "\n",
    "lasso = Lasso()\n",
    "lasso.fit(X_train, y_train)\n",
    "# useful values for the regularization parameter (log-scale)\n",
    "alphas = alpha_best * np.logspace(-1, 3, 100)\n",
    "# lasso path for the weights\n",
    "coefs_ = []\n",
    "beta_l1norm = []\n",
    "for a in alphas:\n",
    "    lasso.set_params(alpha=a)\n",
    "    lasso.fit(X_train, y_train)\n",
    "    beta_l1norm.append(np.sum(np.abs(lasso.coef_.ravel()))) \n",
    "    coefs_.append(lasso.coef_.ravel().copy())\n",
    "betas = np.array(coefs_)"
   ]
  },
  {
   "cell_type": "code",
   "execution_count": null,
   "metadata": {},
   "outputs": [],
   "source": [
    "# Display lasso path Vs l1 norm of the coeff vector\n",
    "plt.figure(figsize=(12,6))\n",
    "plt.semilogx(alphas, betas, marker='o')\n",
    "ymin, ymax = plt.ylim()\n",
    "plt.xlabel('l1 norm of beta')\n",
    "plt.ylabel('Coefficients')\n",
    "plt.title('Lasso Path for noisy data')\n",
    "plt.axis('tight')\n",
    "plt.legend(var_names[:3], fontsize=14)\n",
    "plt.grid('On')\n",
    "plt.show()"
   ]
  },
  {
   "cell_type": "markdown",
   "metadata": {},
   "source": [
    "**Exercise:**\n",
    "- What are the two most significant variables according to the Lasso Path?"
   ]
  },
  {
   "cell_type": "code",
   "execution_count": null,
   "metadata": {},
   "outputs": [],
   "source": []
  }
 ],
 "metadata": {
  "kernelspec": {
   "display_name": "Python 3 (ipykernel)",
   "language": "python",
   "name": "python3"
  },
  "language_info": {
   "codemirror_mode": {
    "name": "ipython",
    "version": 3
   },
   "file_extension": ".py",
   "mimetype": "text/x-python",
   "name": "python",
   "nbconvert_exporter": "python",
   "pygments_lexer": "ipython3",
   "version": "3.9.13"
  },
  "widgets": {
   "application/vnd.jupyter.widget-state+json": {
    "state": {},
    "version_major": 2,
    "version_minor": 0
   }
  }
 },
 "nbformat": 4,
 "nbformat_minor": 4
}
