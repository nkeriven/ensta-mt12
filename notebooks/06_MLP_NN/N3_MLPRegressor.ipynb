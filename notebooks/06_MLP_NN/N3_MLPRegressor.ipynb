{
 "cells": [
  {
   "cell_type": "markdown",
   "metadata": {},
   "source": [
    "[![Open in Colab](https://colab.research.google.com/assets/colab-badge.svg)](https://colab.research.google.com/github/nkeriven/ensta-mt12/blob/main/notebooks/06_MLP_NN/N3_MLPRegressor.ipynb)"
   ]
  },
  {
   "cell_type": "markdown",
   "metadata": {},
   "source": [
    "\n",
    "## Multi-layer Perceptron for regression\n",
    "The notebook aims at illsutrating the behaviour of MLPRerressor for different solvers and activation function. \n",
    "It is left to the student to change the parameters and observe the output results. \n",
    "\n",
    "Consider the same example as in notebook N2_Regression_tree.ipynb\n",
    "\n",
    "https://scikit-learn.org/stable/modules/generated/sklearn.neural_network.MLPRegressor.html"
   ]
  },
  {
   "cell_type": "code",
   "execution_count": null,
   "metadata": {},
   "outputs": [],
   "source": [
    "import numpy as np\n",
    "%matplotlib inline\n",
    "import matplotlib.pyplot as plt\n",
    "\n",
    "noise_std=.2\n",
    "N = 500\n",
    "X=2*np.pi*(np.sort(np.random.rand(N)))[:,np.newaxis]\n",
    "#nx=np.random.randn(X.shape[0],1)*noise_std\n",
    "y=np.sin(X)+np.random.randn(N,1)*noise_std\n",
    "print(\"The number of point in the set is {}\".format(len(X)))\n",
    "\n",
    "plt.figure()\n",
    "plt.scatter(X,y,s=1)\n",
    "plt.xlabel('X')\n",
    "plt.ylabel('y');"
   ]
  },
  {
   "cell_type": "code",
   "execution_count": null,
   "metadata": {},
   "outputs": [],
   "source": [
    "from sklearn.neural_network import MLPRegressor\n",
    "reg=MLPRegressor(hidden_layer_sizes=(),\n",
    "                 activation='relu',\n",
    "                 solver='adam', \n",
    "                 max_iter=5000, \n",
    "                 shuffle=True ,\n",
    "                 random_state=None)\n",
    "\n",
    "reg.fit(X,y.ravel())\n",
    "plt.scatter(X,y,s=1)\n",
    "plt.plot(X,reg.predict(X),'r')"
   ]
  },
  {
   "cell_type": "markdown",
   "metadata": {},
   "source": [
    "### Questions :\n",
    "- Change the parameter hidden_layer_size and observe the results\n",
    "- How many coefficients must be identified for this regressor? (refer to the documentation of scikit-learn MLPRgeressor to understand the structure)\n",
    "- Replace \"relu\" by \"identity\" or \"tanh\": explain your observations\n",
    "- Replace the Adam optimizer by quasi Newton (lbfgs) or Stochastic Gradient descent (sgd) solver. Comment your observations\n",
    "- Change the size of the data N and compare with hidden_layer_sizes. Comment your observations.\n"
   ]
  }
 ],
 "metadata": {
  "kernelspec": {
   "display_name": "Python 3 (ipykernel)",
   "language": "python",
   "name": "python3"
  },
  "language_info": {
   "codemirror_mode": {
    "name": "ipython",
    "version": 3
   },
   "file_extension": ".py",
   "mimetype": "text/x-python",
   "name": "python",
   "nbconvert_exporter": "python",
   "pygments_lexer": "ipython3",
   "version": "3.11.5"
  }
 },
 "nbformat": 4,
 "nbformat_minor": 4
}
