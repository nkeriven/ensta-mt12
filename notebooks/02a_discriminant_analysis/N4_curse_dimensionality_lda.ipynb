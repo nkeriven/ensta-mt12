{
 "cells": [
  {
   "cell_type": "markdown",
   "metadata": {},
   "source": [
    "[![Open in Colab](https://colab.research.google.com/assets/colab-badge.svg)](https://colab.research.google.com/github/nkeriven/ensta-mt12/blob/main/notebooks/02a_discriminant_analysis/N4_curse_dimensionality_lda.ipynb)"
   ]
  },
  {
   "cell_type": "code",
   "execution_count": null,
   "metadata": {
    "collapsed": false,
    "jupyter": {
     "outputs_hidden": false
    }
   },
   "outputs": [],
   "source": [
    "%matplotlib inline"
   ]
  },
  {
   "cell_type": "markdown",
   "metadata": {},
   "source": [
    "# Normal and Shrinkage Linear Discriminant Analysis for classification\n",
    "\n",
    "We consider a high dimension framework by adding useless variables (noise)\n",
    "\n",
    "This notebook shows that\n",
    "- as the dimension increases, the prediction problem becomes much more difficult: this is known as the *curse of dimensionality*\n",
    "- regularization, here the shrinkage explained in the previous notebooks, improves classification especially for large dimensions\n",
    "\n",
    "**taken from scikit-learn**"
   ]
  },
  {
   "cell_type": "code",
   "execution_count": null,
   "metadata": {
    "collapsed": false,
    "jupyter": {
     "outputs_hidden": false
    }
   },
   "outputs": [],
   "source": [
    "import numpy as np\n",
    "import matplotlib.pyplot as plt\n",
    "\n",
    "from sklearn.datasets import make_blobs\n",
    "from sklearn.discriminant_analysis import LinearDiscriminantAnalysis as LDA\n",
    "from sklearn.discriminant_analysis import QuadraticDiscriminantAnalysis as QDA\n",
    "\n",
    "\n",
    "n_train = 20  # samples for training\n",
    "n_test = 200  # samples for testing\n",
    "n_averages = 50  # how often to repeat classification\n",
    "n_features_max = 75  # maximum number of features\n",
    "step = 4  # step size for the calculation"
   ]
  },
  {
   "cell_type": "code",
   "execution_count": null,
   "metadata": {
    "collapsed": false,
    "jupyter": {
     "outputs_hidden": false
    }
   },
   "outputs": [],
   "source": [
    "def generate_data(n_samples, n_features):\n",
    "    \"\"\"Generate random blob-ish data with noisy features.\n",
    "\n",
    "    This returns an array of input data with shape `(n_samples, n_features)`\n",
    "    and an array of `n_samples` target labels.\n",
    "\n",
    "    Only one feature contains discriminative information, the other features\n",
    "    contain only noise!\n",
    "    \"\"\"\n",
    "    X, y = make_blobs(n_samples=n_samples, n_features=1, centers=[[-2], [2]])\n",
    "\n",
    "    # add non-discriminative features\n",
    "    if n_features > 1:\n",
    "        X = np.hstack([X, np.random.randn(n_samples, n_features - 1)])\n",
    "    return X, y"
   ]
  },
  {
   "cell_type": "code",
   "execution_count": null,
   "metadata": {
    "collapsed": false,
    "jupyter": {
     "outputs_hidden": false
    }
   },
   "outputs": [],
   "source": [
    "mcr_clf1, mcr_clf2 = [], []\n",
    "n_features_range = range(1, n_features_max + 1, step)\n",
    "for n_features in n_features_range:\n",
    "    score_clf1, score_clf2 = 0, 0\n",
    "    for _ in range(n_averages):\n",
    "        X, y = generate_data(n_train, n_features)\n",
    "\n",
    "        clf1 = LDA(solver='lsqr', shrinkage='auto').fit(X, y)\n",
    "        clf2 = LDA(solver='lsqr', shrinkage=None).fit(X, y)\n",
    "\n",
    "        X, y = generate_data(n_test, n_features)\n",
    "        score_clf1 += clf1.score(X, y)\n",
    "        score_clf2 += clf2.score(X, y)\n",
    "\n",
    "    mcr_clf1.append(1-score_clf1 / n_averages)\n",
    "    mcr_clf2.append(1-score_clf2 / n_averages)\n",
    "\n",
    "features_samples_ratio = np.array(n_features_range) / n_train\n",
    "\n",
    "plt.figure(figsize=(9,5))\n",
    "plt.plot(features_samples_ratio, mcr_clf1, linewidth=2,\n",
    "         label=\"Linear Discriminant Analysis with shrinkage\", color='navy')\n",
    "plt.plot(features_samples_ratio, mcr_clf2, linewidth=2,\n",
    "         label=\"Linear Discriminant Analysis\", color='gold')\n",
    "\n",
    "plt.xlabel('n_features / n_samples')\n",
    "plt.ylabel('Mis-Classification rate')\n",
    "\n",
    "plt.legend(loc=1, prop={'size': 12})\n",
    "plt.suptitle('Linear Discriminant Analysis vs. \\\n",
    "shrinkage Linear Discriminant Analysis (1 discriminative feature)')\n",
    "plt.grid(\"on\")\n",
    "plt.show()"
   ]
  },
  {
   "cell_type": "markdown",
   "metadata": {},
   "source": [
    "## Exercise:\n",
    "Can you explain\n",
    "- why the performance of standard (without regulariaztion/shrinkage) LDA decreases with the number of features?\n",
    "- why the regularization/shrinkage allows us to mitigate the curse of dimensionality?"
   ]
  },
  {
   "cell_type": "markdown",
   "metadata": {},
   "source": [
    "### EXO\n",
    "Do the same with QDA and `reg_param` (no automatic selection ! just pick a reasonable value)\n",
    "\n",
    "(we deactivate warnings below)"
   ]
  },
  {
   "cell_type": "code",
   "execution_count": null,
   "metadata": {},
   "outputs": [],
   "source": [
    "import warnings\n",
    "warnings.filterwarnings(\"ignore\")"
   ]
  }
 ],
 "metadata": {
  "kernelspec": {
   "display_name": "Python 3 (ipykernel)",
   "language": "python",
   "name": "python3"
  },
  "language_info": {
   "codemirror_mode": {
    "name": "ipython",
    "version": 3
   },
   "file_extension": ".py",
   "mimetype": "text/x-python",
   "name": "python",
   "nbconvert_exporter": "python",
   "pygments_lexer": "ipython3",
   "version": "3.11.5"
  },
  "widgets": {
   "application/vnd.jupyter.widget-state+json": {
    "state": {},
    "version_major": 2,
    "version_minor": 0
   }
  }
 },
 "nbformat": 4,
 "nbformat_minor": 4
}
