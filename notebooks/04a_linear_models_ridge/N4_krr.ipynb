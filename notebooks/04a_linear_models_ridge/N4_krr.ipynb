{
 "cells": [
  {
   "cell_type": "markdown",
   "metadata": {},
   "source": [
    "[![Open in Colab](https://colab.research.google.com/assets/colab-badge.svg)](https://colab.research.google.com/github/nkeriven/ensta-mt12/blob/main/notebooks/04a_linear_models_ridge/N4_krr.ipynb)"
   ]
  },
  {
   "cell_type": "code",
   "execution_count": null,
   "metadata": {},
   "outputs": [],
   "source": [
    "# Import modules\n",
    "%matplotlib inline\n",
    "import matplotlib\n",
    "import numpy as np\n",
    "import matplotlib.pyplot as plt\n",
    "# Select random seed\n",
    "random_state = 3"
   ]
  },
  {
   "cell_type": "markdown",
   "metadata": {},
   "source": [
    "# Model Complexity"
   ]
  },
  {
   "cell_type": "markdown",
   "metadata": {},
   "source": [
    "We make use of scikit pipeline mechanism to estimate linear classification of different order"
   ]
  },
  {
   "cell_type": "code",
   "execution_count": null,
   "metadata": {},
   "outputs": [],
   "source": [
    "from sklearn.pipeline import make_pipeline, Pipeline\n",
    "from sklearn.preprocessing import PolynomialFeatures, StandardScaler"
   ]
  },
  {
   "cell_type": "markdown",
   "metadata": {},
   "source": [
    "The PolynomialFeatures functions generates higher order polynoms from the initial samples. For instances, from (x_1, x_2) we could generate second order monomials (1, x_1, x_2, x_1x_2, x_1^2,x_2^2). It can be useful when the decision boundary is not linear."
   ]
  },
  {
   "cell_type": "markdown",
   "metadata": {},
   "source": [
    "## Generate data using sklearn toy functions"
   ]
  },
  {
   "cell_type": "code",
   "execution_count": null,
   "metadata": {},
   "outputs": [],
   "source": [
    "from sklearn.datasets import make_moons\n",
    "X,y = make_moons(n_samples=1000, random_state=random_state, noise=0.25)\n",
    "\n",
    "from sklearn.model_selection import train_test_split\n",
    "# We split the initial set in two sets: one, namely the training set, use for training the model, \n",
    "# and one, namely the test set, use to compute the validation error\n",
    "# -> test_size x n_samples for the test set and n_samples x (1- test_size) for the training set\n",
    "# where test_size is given as a parameter\n",
    "X_train, X_test, y_train, y_test = train_test_split(X, y, test_size=0.9, random_state= random_state )\n",
    "y_train[y_train==0]=-1\n",
    "y_test[y_test==0]=-1\n",
    "\n",
    "# Display the training set\n",
    "plt.scatter(X_train[:,0], X_train[:,1],c=y_train)\n",
    "plt.grid()"
   ]
  },
  {
   "cell_type": "markdown",
   "metadata": {},
   "source": [
    "## Train the Least Squares Classifier with polynomial features"
   ]
  },
  {
   "cell_type": "code",
   "execution_count": null,
   "metadata": {},
   "outputs": [],
   "source": [
    "from sklearn import linear_model\n",
    "\n",
    "XX, YY = np.meshgrid(np.linspace(X_train[:,0].min(), X_train[:,0].max(),200),\n",
    "                     np.linspace(X_train[:,1].min(), X_train[:,1].max(),200))\n",
    "XY = np.vstack([ XX.flatten(), YY.flatten() ]).T\n",
    "d=5\n",
    "model = make_pipeline(PolynomialFeatures(d), StandardScaler(), linear_model.RidgeClassifier(alpha=1e-6))\n",
    "model.fit(X_train, y_train) # apply fit to the whole pipeline: compute polynomial degree, scale, train the classifier\n",
    "\n",
    "yp= model.predict(XY) # important: the scaler doesn't change its mean/std value for prediction !\n",
    "plt.figure()\n",
    "plt.contour(XX,YY,yp.reshape(XX.shape),[0])\n",
    "plt.grid()\n",
    "plt.scatter(XY[:,0],XY[:,1], s=.01, c=yp)\n",
    "plt.scatter(X_train[:,0], X_train[:,1], c=y_train)\n",
    "plt.title(f'd={d}')\n"
   ]
  },
  {
   "cell_type": "code",
   "execution_count": null,
   "metadata": {},
   "outputs": [],
   "source": [
    "from sklearn.kernel_ridge import KernelRidge\n",
    "alpha=.3\n",
    "model = make_pipeline(StandardScaler(), KernelRidge(alpha=alpha, kernel='rbf'))\n",
    "model.fit(X_train, y_train) # apply fit to the whole pipeline: compute polynomial degree, scale, train the classifier\n",
    "\n",
    "yp= np.array(model.predict(XY)>0, dtype=int) # important: the scaler doesn't change its mean/std value for prediction !\n",
    "plt.figure()\n",
    "plt.contour(XX,YY,yp.reshape(XX.shape),[0])\n",
    "plt.grid()\n",
    "plt.scatter(XY[:,0],XY[:,1], s=.01, c=yp)\n",
    "plt.scatter(X_train[:,0], X_train[:,1], c=y_train)\n",
    "plt.title(f'alpha={alpha}')"
   ]
  },
  {
   "cell_type": "markdown",
   "metadata": {},
   "source": [
    "### Exercise\n",
    "\n",
    " - select alpha by CV\n"
   ]
  }
 ],
 "metadata": {
  "kernelspec": {
   "display_name": "Python 3 (ipykernel)",
   "language": "python",
   "name": "python3"
  },
  "language_info": {
   "codemirror_mode": {
    "name": "ipython",
    "version": 3
   },
   "file_extension": ".py",
   "mimetype": "text/x-python",
   "name": "python",
   "nbconvert_exporter": "python",
   "pygments_lexer": "ipython3",
   "version": "3.9.13"
  },
  "widgets": {
   "application/vnd.jupyter.widget-state+json": {
    "state": {},
    "version_major": 2,
    "version_minor": 0
   }
  }
 },
 "nbformat": 4,
 "nbformat_minor": 4
}
